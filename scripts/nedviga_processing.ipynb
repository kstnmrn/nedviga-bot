{
 "cells": [
  {
   "cell_type": "markdown",
   "id": "2a51402d",
   "metadata": {
    "toc": true
   },
   "source": [
    "<h1>Table of Contents<span class=\"tocSkip\"></span></h1>\n",
    "<div class=\"toc\"><ul class=\"toc-item\"><li><span><a href=\"#Открытие-и-оценка-данных\" data-toc-modified-id=\"Открытие-и-оценка-данных-1\"><span class=\"toc-item-num\">1&nbsp;&nbsp;</span>Открытие и оценка данных</a></span></li><li><span><a href=\"#Пропуски,-дубликаты\" data-toc-modified-id=\"Пропуски,-дубликаты-2\"><span class=\"toc-item-num\">2&nbsp;&nbsp;</span>Пропуски, дубликаты</a></span></li><li><span><a href=\"#Статистика,-корреляция\" data-toc-modified-id=\"Статистика,-корреляция-3\"><span class=\"toc-item-num\">3&nbsp;&nbsp;</span>Статистика, корреляция</a></span></li><li><span><a href=\"#Оценка-категориальных-признаков\" data-toc-modified-id=\"Оценка-категориальных-признаков-4\"><span class=\"toc-item-num\">4&nbsp;&nbsp;</span>Оценка категориальных признаков</a></span></li><li><span><a href=\"#Оценка-числовых-признаков\" data-toc-modified-id=\"Оценка-числовых-признаков-5\"><span class=\"toc-item-num\">5&nbsp;&nbsp;</span>Оценка числовых признаков</a></span></li><li><span><a href=\"#Удаление-лишних-признаков-и-исправление-оставшихся-ошибок\" data-toc-modified-id=\"Удаление-лишних-признаков-и-исправление-оставшихся-ошибок-6\"><span class=\"toc-item-num\">6&nbsp;&nbsp;</span>Удаление лишних признаков и исправление оставшихся ошибок</a></span></li></ul></div>"
   ]
  },
  {
   "cell_type": "code",
   "execution_count": 1,
   "id": "2394e265",
   "metadata": {},
   "outputs": [],
   "source": [
    "import pandas as pd\n",
    "import numpy as np\n",
    "import seaborn as sb\n",
    "from matplotlib import pyplot as plt\n"
   ]
  },
  {
   "cell_type": "markdown",
   "id": "f3e48084",
   "metadata": {},
   "source": [
    "## Открытие и оценка данных"
   ]
  },
  {
   "cell_type": "code",
   "execution_count": 2,
   "id": "403a9582",
   "metadata": {},
   "outputs": [
    {
     "data": {
      "text/html": [
       "<div>\n",
       "<style scoped>\n",
       "    .dataframe tbody tr th:only-of-type {\n",
       "        vertical-align: middle;\n",
       "    }\n",
       "\n",
       "    .dataframe tbody tr th {\n",
       "        vertical-align: top;\n",
       "    }\n",
       "\n",
       "    .dataframe thead th {\n",
       "        text-align: right;\n",
       "    }\n",
       "</style>\n",
       "<table border=\"1\" class=\"dataframe\">\n",
       "  <thead>\n",
       "    <tr style=\"text-align: right;\">\n",
       "      <th></th>\n",
       "      <th>author</th>\n",
       "      <th>author_type</th>\n",
       "      <th>link</th>\n",
       "      <th>city</th>\n",
       "      <th>deal_type</th>\n",
       "      <th>accommodation_type</th>\n",
       "      <th>floor</th>\n",
       "      <th>floors_count</th>\n",
       "      <th>rooms_count</th>\n",
       "      <th>total_meters</th>\n",
       "      <th>price_per_m2</th>\n",
       "      <th>price</th>\n",
       "      <th>district</th>\n",
       "      <th>street</th>\n",
       "      <th>underground</th>\n",
       "      <th>residential_complex</th>\n",
       "      <th>year_of_construction</th>\n",
       "      <th>living_meters</th>\n",
       "      <th>kitchen_meters</th>\n",
       "      <th>phone</th>\n",
       "    </tr>\n",
       "  </thead>\n",
       "  <tbody>\n",
       "    <tr>\n",
       "      <th>0</th>\n",
       "      <td>ID 68011836</td>\n",
       "      <td>realtor</td>\n",
       "      <td>https://zvenigorod.cian.ru/sale/flat/283141854/</td>\n",
       "      <td>Звенигород</td>\n",
       "      <td>sale</td>\n",
       "      <td>flat</td>\n",
       "      <td>6</td>\n",
       "      <td>7</td>\n",
       "      <td>1</td>\n",
       "      <td>38.0</td>\n",
       "      <td>210526</td>\n",
       "      <td>7999999</td>\n",
       "      <td>NaN</td>\n",
       "      <td>NaN</td>\n",
       "      <td>Строгино</td>\n",
       "      <td>NaN</td>\n",
       "      <td>NaN</td>\n",
       "      <td>NaN</td>\n",
       "      <td>NaN</td>\n",
       "      <td>NaN</td>\n",
       "    </tr>\n",
       "    <tr>\n",
       "      <th>1</th>\n",
       "      <td>ID 16673486</td>\n",
       "      <td>unknown</td>\n",
       "      <td>https://zvenigorod.cian.ru/sale/flat/282494496/</td>\n",
       "      <td>Звенигород</td>\n",
       "      <td>sale</td>\n",
       "      <td>flat</td>\n",
       "      <td>8</td>\n",
       "      <td>16</td>\n",
       "      <td>2</td>\n",
       "      <td>38.0</td>\n",
       "      <td>157894</td>\n",
       "      <td>5999999</td>\n",
       "      <td>NaN</td>\n",
       "      <td>NaN</td>\n",
       "      <td>Строгино</td>\n",
       "      <td>NaN</td>\n",
       "      <td>NaN</td>\n",
       "      <td>NaN</td>\n",
       "      <td>NaN</td>\n",
       "      <td>NaN</td>\n",
       "    </tr>\n",
       "    <tr>\n",
       "      <th>2</th>\n",
       "      <td>ID 18318296</td>\n",
       "      <td>homeowner</td>\n",
       "      <td>https://zvenigorod.cian.ru/sale/flat/285491950/</td>\n",
       "      <td>Звенигород</td>\n",
       "      <td>sale</td>\n",
       "      <td>flat</td>\n",
       "      <td>4</td>\n",
       "      <td>14</td>\n",
       "      <td>2</td>\n",
       "      <td>56.7</td>\n",
       "      <td>133686</td>\n",
       "      <td>7580000</td>\n",
       "      <td>NaN</td>\n",
       "      <td>NaN</td>\n",
       "      <td>NaN</td>\n",
       "      <td>NaN</td>\n",
       "      <td>NaN</td>\n",
       "      <td>NaN</td>\n",
       "      <td>NaN</td>\n",
       "      <td>NaN</td>\n",
       "    </tr>\n",
       "    <tr>\n",
       "      <th>3</th>\n",
       "      <td>ОГРК</td>\n",
       "      <td>real_estate_agent</td>\n",
       "      <td>https://zvenigorod.cian.ru/sale/flat/282788048/</td>\n",
       "      <td>Звенигород</td>\n",
       "      <td>sale</td>\n",
       "      <td>flat</td>\n",
       "      <td>15</td>\n",
       "      <td>16</td>\n",
       "      <td>1</td>\n",
       "      <td>28.8</td>\n",
       "      <td>104166</td>\n",
       "      <td>3000000</td>\n",
       "      <td>NaN</td>\n",
       "      <td>NaN</td>\n",
       "      <td>NaN</td>\n",
       "      <td>NaN</td>\n",
       "      <td>NaN</td>\n",
       "      <td>NaN</td>\n",
       "      <td>NaN</td>\n",
       "      <td>NaN</td>\n",
       "    </tr>\n",
       "    <tr>\n",
       "      <th>4</th>\n",
       "      <td>ДомЭль Недвижимость. Отделение на Серпуховской...</td>\n",
       "      <td>real_estate_agent</td>\n",
       "      <td>https://zvenigorod.cian.ru/sale/flat/279656102/</td>\n",
       "      <td>Звенигород</td>\n",
       "      <td>sale</td>\n",
       "      <td>flat</td>\n",
       "      <td>5</td>\n",
       "      <td>6</td>\n",
       "      <td>3</td>\n",
       "      <td>90.1</td>\n",
       "      <td>132075</td>\n",
       "      <td>11900000</td>\n",
       "      <td>NaN</td>\n",
       "      <td>NaN</td>\n",
       "      <td>NaN</td>\n",
       "      <td>NaN</td>\n",
       "      <td>NaN</td>\n",
       "      <td>NaN</td>\n",
       "      <td>NaN</td>\n",
       "      <td>NaN</td>\n",
       "    </tr>\n",
       "    <tr>\n",
       "      <th>...</th>\n",
       "      <td>...</td>\n",
       "      <td>...</td>\n",
       "      <td>...</td>\n",
       "      <td>...</td>\n",
       "      <td>...</td>\n",
       "      <td>...</td>\n",
       "      <td>...</td>\n",
       "      <td>...</td>\n",
       "      <td>...</td>\n",
       "      <td>...</td>\n",
       "      <td>...</td>\n",
       "      <td>...</td>\n",
       "      <td>...</td>\n",
       "      <td>...</td>\n",
       "      <td>...</td>\n",
       "      <td>...</td>\n",
       "      <td>...</td>\n",
       "      <td>...</td>\n",
       "      <td>...</td>\n",
       "      <td>...</td>\n",
       "    </tr>\n",
       "    <tr>\n",
       "      <th>119408</th>\n",
       "      <td>ID 7336781</td>\n",
       "      <td>unknown</td>\n",
       "      <td>https://zhukovsky.cian.ru/sale/flat/261733548/</td>\n",
       "      <td>Жуковский</td>\n",
       "      <td>sale</td>\n",
       "      <td>flat</td>\n",
       "      <td>11</td>\n",
       "      <td>20</td>\n",
       "      <td>1</td>\n",
       "      <td>51.0</td>\n",
       "      <td>148039</td>\n",
       "      <td>7550000</td>\n",
       "      <td>NaN</td>\n",
       "      <td>NaN</td>\n",
       "      <td>NaN</td>\n",
       "      <td>NaN</td>\n",
       "      <td>NaN</td>\n",
       "      <td>NaN</td>\n",
       "      <td>NaN</td>\n",
       "      <td>NaN</td>\n",
       "    </tr>\n",
       "    <tr>\n",
       "      <th>119409</th>\n",
       "      <td>ID 52564949</td>\n",
       "      <td>homeowner</td>\n",
       "      <td>https://zhukovsky.cian.ru/sale/flat/279782565/</td>\n",
       "      <td>Жуковский</td>\n",
       "      <td>sale</td>\n",
       "      <td>flat</td>\n",
       "      <td>9</td>\n",
       "      <td>17</td>\n",
       "      <td>2</td>\n",
       "      <td>69.6</td>\n",
       "      <td>201149</td>\n",
       "      <td>14000000</td>\n",
       "      <td>NaN</td>\n",
       "      <td>NaN</td>\n",
       "      <td>NaN</td>\n",
       "      <td>NaN</td>\n",
       "      <td>NaN</td>\n",
       "      <td>NaN</td>\n",
       "      <td>NaN</td>\n",
       "      <td>NaN</td>\n",
       "    </tr>\n",
       "    <tr>\n",
       "      <th>119410</th>\n",
       "      <td>ID 52146117</td>\n",
       "      <td>homeowner</td>\n",
       "      <td>https://zhukovsky.cian.ru/sale/flat/272226067/</td>\n",
       "      <td>Жуковский</td>\n",
       "      <td>sale</td>\n",
       "      <td>flat</td>\n",
       "      <td>17</td>\n",
       "      <td>17</td>\n",
       "      <td>4</td>\n",
       "      <td>171.6</td>\n",
       "      <td>163170</td>\n",
       "      <td>28000000</td>\n",
       "      <td>NaN</td>\n",
       "      <td>NaN</td>\n",
       "      <td>Котельники</td>\n",
       "      <td>NaN</td>\n",
       "      <td>NaN</td>\n",
       "      <td>NaN</td>\n",
       "      <td>NaN</td>\n",
       "      <td>NaN</td>\n",
       "    </tr>\n",
       "    <tr>\n",
       "      <th>119411</th>\n",
       "      <td>ID 102132457</td>\n",
       "      <td>homeowner</td>\n",
       "      <td>https://zhukovsky.cian.ru/sale/flat/286338829/</td>\n",
       "      <td>Жуковский</td>\n",
       "      <td>sale</td>\n",
       "      <td>flat</td>\n",
       "      <td>1</td>\n",
       "      <td>5</td>\n",
       "      <td>2</td>\n",
       "      <td>44.1</td>\n",
       "      <td>136054</td>\n",
       "      <td>6000000</td>\n",
       "      <td>NaN</td>\n",
       "      <td>NaN</td>\n",
       "      <td>NaN</td>\n",
       "      <td>NaN</td>\n",
       "      <td>NaN</td>\n",
       "      <td>NaN</td>\n",
       "      <td>NaN</td>\n",
       "      <td>NaN</td>\n",
       "    </tr>\n",
       "    <tr>\n",
       "      <th>119412</th>\n",
       "      <td>ID 81224455</td>\n",
       "      <td>homeowner</td>\n",
       "      <td>https://zhukovsky.cian.ru/sale/flat/265375679/</td>\n",
       "      <td>Жуковский</td>\n",
       "      <td>sale</td>\n",
       "      <td>flat</td>\n",
       "      <td>1</td>\n",
       "      <td>14</td>\n",
       "      <td>-1</td>\n",
       "      <td>205.0</td>\n",
       "      <td>82926</td>\n",
       "      <td>17000000</td>\n",
       "      <td>NaN</td>\n",
       "      <td>NaN</td>\n",
       "      <td>NaN</td>\n",
       "      <td>NaN</td>\n",
       "      <td>NaN</td>\n",
       "      <td>NaN</td>\n",
       "      <td>NaN</td>\n",
       "      <td>NaN</td>\n",
       "    </tr>\n",
       "  </tbody>\n",
       "</table>\n",
       "<p>119413 rows × 20 columns</p>\n",
       "</div>"
      ],
      "text/plain": [
       "                                                   author        author_type  \\\n",
       "0                                             ID 68011836            realtor   \n",
       "1                                             ID 16673486            unknown   \n",
       "2                                             ID 18318296          homeowner   \n",
       "3                                                    ОГРК  real_estate_agent   \n",
       "4       ДомЭль Недвижимость. Отделение на Серпуховской...  real_estate_agent   \n",
       "...                                                   ...                ...   \n",
       "119408                                         ID 7336781            unknown   \n",
       "119409                                        ID 52564949          homeowner   \n",
       "119410                                        ID 52146117          homeowner   \n",
       "119411                                       ID 102132457          homeowner   \n",
       "119412                                        ID 81224455          homeowner   \n",
       "\n",
       "                                                   link        city deal_type  \\\n",
       "0       https://zvenigorod.cian.ru/sale/flat/283141854/  Звенигород      sale   \n",
       "1       https://zvenigorod.cian.ru/sale/flat/282494496/  Звенигород      sale   \n",
       "2       https://zvenigorod.cian.ru/sale/flat/285491950/  Звенигород      sale   \n",
       "3       https://zvenigorod.cian.ru/sale/flat/282788048/  Звенигород      sale   \n",
       "4       https://zvenigorod.cian.ru/sale/flat/279656102/  Звенигород      sale   \n",
       "...                                                 ...         ...       ...   \n",
       "119408   https://zhukovsky.cian.ru/sale/flat/261733548/   Жуковский      sale   \n",
       "119409   https://zhukovsky.cian.ru/sale/flat/279782565/   Жуковский      sale   \n",
       "119410   https://zhukovsky.cian.ru/sale/flat/272226067/   Жуковский      sale   \n",
       "119411   https://zhukovsky.cian.ru/sale/flat/286338829/   Жуковский      sale   \n",
       "119412   https://zhukovsky.cian.ru/sale/flat/265375679/   Жуковский      sale   \n",
       "\n",
       "       accommodation_type  floor  floors_count  rooms_count  total_meters  \\\n",
       "0                    flat      6             7            1          38.0   \n",
       "1                    flat      8            16            2          38.0   \n",
       "2                    flat      4            14            2          56.7   \n",
       "3                    flat     15            16            1          28.8   \n",
       "4                    flat      5             6            3          90.1   \n",
       "...                   ...    ...           ...          ...           ...   \n",
       "119408               flat     11            20            1          51.0   \n",
       "119409               flat      9            17            2          69.6   \n",
       "119410               flat     17            17            4         171.6   \n",
       "119411               flat      1             5            2          44.1   \n",
       "119412               flat      1            14           -1         205.0   \n",
       "\n",
       "        price_per_m2     price district street underground  \\\n",
       "0             210526   7999999      NaN    NaN    Строгино   \n",
       "1             157894   5999999      NaN    NaN    Строгино   \n",
       "2             133686   7580000      NaN    NaN         NaN   \n",
       "3             104166   3000000      NaN    NaN         NaN   \n",
       "4             132075  11900000      NaN    NaN         NaN   \n",
       "...              ...       ...      ...    ...         ...   \n",
       "119408        148039   7550000      NaN    NaN         NaN   \n",
       "119409        201149  14000000      NaN    NaN         NaN   \n",
       "119410        163170  28000000      NaN    NaN  Котельники   \n",
       "119411        136054   6000000      NaN    NaN         NaN   \n",
       "119412         82926  17000000      NaN    NaN         NaN   \n",
       "\n",
       "       residential_complex  year_of_construction  living_meters  \\\n",
       "0                      NaN                   NaN            NaN   \n",
       "1                      NaN                   NaN            NaN   \n",
       "2                      NaN                   NaN            NaN   \n",
       "3                      NaN                   NaN            NaN   \n",
       "4                      NaN                   NaN            NaN   \n",
       "...                    ...                   ...            ...   \n",
       "119408                 NaN                   NaN            NaN   \n",
       "119409                 NaN                   NaN            NaN   \n",
       "119410                 NaN                   NaN            NaN   \n",
       "119411                 NaN                   NaN            NaN   \n",
       "119412                 NaN                   NaN            NaN   \n",
       "\n",
       "        kitchen_meters  phone  \n",
       "0                  NaN    NaN  \n",
       "1                  NaN    NaN  \n",
       "2                  NaN    NaN  \n",
       "3                  NaN    NaN  \n",
       "4                  NaN    NaN  \n",
       "...                ...    ...  \n",
       "119408             NaN    NaN  \n",
       "119409             NaN    NaN  \n",
       "119410             NaN    NaN  \n",
       "119411             NaN    NaN  \n",
       "119412             NaN    NaN  \n",
       "\n",
       "[119413 rows x 20 columns]"
      ]
     },
     "execution_count": 2,
     "metadata": {},
     "output_type": "execute_result"
    }
   ],
   "source": [
    "data=pd.read_csv('df_rent.csv')\n",
    "data"
   ]
  },
  {
   "cell_type": "code",
   "execution_count": 3,
   "id": "726b137f",
   "metadata": {},
   "outputs": [
    {
     "name": "stdout",
     "output_type": "stream",
     "text": [
      "<class 'pandas.core.frame.DataFrame'>\n",
      "RangeIndex: 119413 entries, 0 to 119412\n",
      "Data columns (total 20 columns):\n",
      " #   Column                Non-Null Count   Dtype  \n",
      "---  ------                --------------   -----  \n",
      " 0   author                117386 non-null  object \n",
      " 1   author_type           117406 non-null  object \n",
      " 2   link                  119413 non-null  object \n",
      " 3   city                  119413 non-null  object \n",
      " 4   deal_type             119413 non-null  object \n",
      " 5   accommodation_type    119413 non-null  object \n",
      " 6   floor                 119413 non-null  int64  \n",
      " 7   floors_count          119413 non-null  int64  \n",
      " 8   rooms_count           119413 non-null  int64  \n",
      " 9   total_meters          119413 non-null  float64\n",
      " 10  price_per_m2          119413 non-null  int64  \n",
      " 11  price                 119413 non-null  int64  \n",
      " 12  district              47190 non-null   object \n",
      " 13  street                43724 non-null   object \n",
      " 14  underground           14993 non-null   object \n",
      " 15  residential_complex   20864 non-null   object \n",
      " 16  year_of_construction  2751 non-null    float64\n",
      " 17  living_meters         2751 non-null    float64\n",
      " 18  kitchen_meters        2751 non-null    float64\n",
      " 19  phone                 2751 non-null    float64\n",
      "dtypes: float64(5), int64(5), object(10)\n",
      "memory usage: 18.2+ MB\n"
     ]
    }
   ],
   "source": [
    "data.info()"
   ]
  },
  {
   "cell_type": "code",
   "execution_count": 4,
   "id": "7f68c08e",
   "metadata": {
    "scrolled": false
   },
   "outputs": [
    {
     "data": {
      "text/plain": [
       "array([[<Axes: title={'center': 'floor'}>,\n",
       "        <Axes: title={'center': 'floors_count'}>,\n",
       "        <Axes: title={'center': 'rooms_count'}>],\n",
       "       [<Axes: title={'center': 'total_meters'}>,\n",
       "        <Axes: title={'center': 'price_per_m2'}>,\n",
       "        <Axes: title={'center': 'price'}>],\n",
       "       [<Axes: title={'center': 'year_of_construction'}>,\n",
       "        <Axes: title={'center': 'living_meters'}>,\n",
       "        <Axes: title={'center': 'kitchen_meters'}>],\n",
       "       [<Axes: title={'center': 'phone'}>, <Axes: >, <Axes: >]],\n",
       "      dtype=object)"
      ]
     },
     "execution_count": 4,
     "metadata": {},
     "output_type": "execute_result"
    },
    {
     "data": {
      "image/png": "[encoded data removed]",
      "text/plain": [
       "<Figure size 1000x1000 with 12 Axes>"
      ]
     },
     "metadata": {},
     "output_type": "display_data"
    }
   ],
   "source": [
    "data.hist(figsize=(10,10))"
   ]
  },
  {
   "cell_type": "markdown",
   "id": "2a3c201e",
   "metadata": {},
   "source": [
    "## Пропуски, дубликаты"
   ]
  },
  {
   "cell_type": "code",
   "execution_count": 5,
   "id": "af1fde5b",
   "metadata": {},
   "outputs": [],
   "source": [
    "# Принудительно все категориальные признаки приведу к нижнему регистру\n",
    "def lower(data):\n",
    "    for col in data.columns:\n",
    "        if data[col].dtype == \"object\":\n",
    "            data[col] = data[col].str.lower()\n",
    "            data[col] = data[col].astype(\"object\")\n",
    "\n",
    "lower(data)"
   ]
  },
  {
   "cell_type": "code",
   "execution_count": 6,
   "id": "e33b51f6",
   "metadata": {
    "scrolled": true
   },
   "outputs": [
    {
     "data": {
      "text/html": [
       "<div>\n",
       "<style scoped>\n",
       "    .dataframe tbody tr th:only-of-type {\n",
       "        vertical-align: middle;\n",
       "    }\n",
       "\n",
       "    .dataframe tbody tr th {\n",
       "        vertical-align: top;\n",
       "    }\n",
       "\n",
       "    .dataframe thead th {\n",
       "        text-align: right;\n",
       "    }\n",
       "</style>\n",
       "<table border=\"1\" class=\"dataframe\">\n",
       "  <thead>\n",
       "    <tr style=\"text-align: right;\">\n",
       "      <th></th>\n",
       "      <th>author</th>\n",
       "      <th>author_type</th>\n",
       "      <th>link</th>\n",
       "      <th>city</th>\n",
       "      <th>deal_type</th>\n",
       "      <th>accommodation_type</th>\n",
       "      <th>floor</th>\n",
       "      <th>floors_count</th>\n",
       "      <th>rooms_count</th>\n",
       "      <th>total_meters</th>\n",
       "      <th>price_per_m2</th>\n",
       "      <th>price</th>\n",
       "      <th>district</th>\n",
       "      <th>street</th>\n",
       "      <th>underground</th>\n",
       "      <th>residential_complex</th>\n",
       "      <th>year_of_construction</th>\n",
       "      <th>living_meters</th>\n",
       "      <th>kitchen_meters</th>\n",
       "      <th>phone</th>\n",
       "    </tr>\n",
       "  </thead>\n",
       "  <tbody>\n",
       "    <tr>\n",
       "      <th>0</th>\n",
       "      <td>id 68011836</td>\n",
       "      <td>realtor</td>\n",
       "      <td>https://zvenigorod.cian.ru/sale/flat/283141854/</td>\n",
       "      <td>звенигород</td>\n",
       "      <td>sale</td>\n",
       "      <td>flat</td>\n",
       "      <td>6</td>\n",
       "      <td>7</td>\n",
       "      <td>1</td>\n",
       "      <td>38.0</td>\n",
       "      <td>210526</td>\n",
       "      <td>7999999</td>\n",
       "      <td>NaN</td>\n",
       "      <td>NaN</td>\n",
       "      <td>строгино</td>\n",
       "      <td>NaN</td>\n",
       "      <td>NaN</td>\n",
       "      <td>NaN</td>\n",
       "      <td>NaN</td>\n",
       "      <td>NaN</td>\n",
       "    </tr>\n",
       "    <tr>\n",
       "      <th>1</th>\n",
       "      <td>id 16673486</td>\n",
       "      <td>unknown</td>\n",
       "      <td>https://zvenigorod.cian.ru/sale/flat/282494496/</td>\n",
       "      <td>звенигород</td>\n",
       "      <td>sale</td>\n",
       "      <td>flat</td>\n",
       "      <td>8</td>\n",
       "      <td>16</td>\n",
       "      <td>2</td>\n",
       "      <td>38.0</td>\n",
       "      <td>157894</td>\n",
       "      <td>5999999</td>\n",
       "      <td>NaN</td>\n",
       "      <td>NaN</td>\n",
       "      <td>строгино</td>\n",
       "      <td>NaN</td>\n",
       "      <td>NaN</td>\n",
       "      <td>NaN</td>\n",
       "      <td>NaN</td>\n",
       "      <td>NaN</td>\n",
       "    </tr>\n",
       "    <tr>\n",
       "      <th>2</th>\n",
       "      <td>id 18318296</td>\n",
       "      <td>homeowner</td>\n",
       "      <td>https://zvenigorod.cian.ru/sale/flat/285491950/</td>\n",
       "      <td>звенигород</td>\n",
       "      <td>sale</td>\n",
       "      <td>flat</td>\n",
       "      <td>4</td>\n",
       "      <td>14</td>\n",
       "      <td>2</td>\n",
       "      <td>56.7</td>\n",
       "      <td>133686</td>\n",
       "      <td>7580000</td>\n",
       "      <td>NaN</td>\n",
       "      <td>NaN</td>\n",
       "      <td>NaN</td>\n",
       "      <td>NaN</td>\n",
       "      <td>NaN</td>\n",
       "      <td>NaN</td>\n",
       "      <td>NaN</td>\n",
       "      <td>NaN</td>\n",
       "    </tr>\n",
       "    <tr>\n",
       "      <th>3</th>\n",
       "      <td>огрк</td>\n",
       "      <td>real_estate_agent</td>\n",
       "      <td>https://zvenigorod.cian.ru/sale/flat/282788048/</td>\n",
       "      <td>звенигород</td>\n",
       "      <td>sale</td>\n",
       "      <td>flat</td>\n",
       "      <td>15</td>\n",
       "      <td>16</td>\n",
       "      <td>1</td>\n",
       "      <td>28.8</td>\n",
       "      <td>104166</td>\n",
       "      <td>3000000</td>\n",
       "      <td>NaN</td>\n",
       "      <td>NaN</td>\n",
       "      <td>NaN</td>\n",
       "      <td>NaN</td>\n",
       "      <td>NaN</td>\n",
       "      <td>NaN</td>\n",
       "      <td>NaN</td>\n",
       "      <td>NaN</td>\n",
       "    </tr>\n",
       "    <tr>\n",
       "      <th>4</th>\n",
       "      <td>домэль недвижимость. отделение на серпуховской...</td>\n",
       "      <td>real_estate_agent</td>\n",
       "      <td>https://zvenigorod.cian.ru/sale/flat/279656102/</td>\n",
       "      <td>звенигород</td>\n",
       "      <td>sale</td>\n",
       "      <td>flat</td>\n",
       "      <td>5</td>\n",
       "      <td>6</td>\n",
       "      <td>3</td>\n",
       "      <td>90.1</td>\n",
       "      <td>132075</td>\n",
       "      <td>11900000</td>\n",
       "      <td>NaN</td>\n",
       "      <td>NaN</td>\n",
       "      <td>NaN</td>\n",
       "      <td>NaN</td>\n",
       "      <td>NaN</td>\n",
       "      <td>NaN</td>\n",
       "      <td>NaN</td>\n",
       "      <td>NaN</td>\n",
       "    </tr>\n",
       "  </tbody>\n",
       "</table>\n",
       "</div>"
      ],
      "text/plain": [
       "                                              author        author_type  \\\n",
       "0                                        id 68011836            realtor   \n",
       "1                                        id 16673486            unknown   \n",
       "2                                        id 18318296          homeowner   \n",
       "3                                               огрк  real_estate_agent   \n",
       "4  домэль недвижимость. отделение на серпуховской...  real_estate_agent   \n",
       "\n",
       "                                              link        city deal_type  \\\n",
       "0  https://zvenigorod.cian.ru/sale/flat/283141854/  звенигород      sale   \n",
       "1  https://zvenigorod.cian.ru/sale/flat/282494496/  звенигород      sale   \n",
       "2  https://zvenigorod.cian.ru/sale/flat/285491950/  звенигород      sale   \n",
       "3  https://zvenigorod.cian.ru/sale/flat/282788048/  звенигород      sale   \n",
       "4  https://zvenigorod.cian.ru/sale/flat/279656102/  звенигород      sale   \n",
       "\n",
       "  accommodation_type  floor  floors_count  rooms_count  total_meters  \\\n",
       "0               flat      6             7            1          38.0   \n",
       "1               flat      8            16            2          38.0   \n",
       "2               flat      4            14            2          56.7   \n",
       "3               flat     15            16            1          28.8   \n",
       "4               flat      5             6            3          90.1   \n",
       "\n",
       "   price_per_m2     price district street underground residential_complex  \\\n",
       "0        210526   7999999      NaN    NaN    строгино                 NaN   \n",
       "1        157894   5999999      NaN    NaN    строгино                 NaN   \n",
       "2        133686   7580000      NaN    NaN         NaN                 NaN   \n",
       "3        104166   3000000      NaN    NaN         NaN                 NaN   \n",
       "4        132075  11900000      NaN    NaN         NaN                 NaN   \n",
       "\n",
       "   year_of_construction  living_meters  kitchen_meters  phone  \n",
       "0                   NaN            NaN             NaN    NaN  \n",
       "1                   NaN            NaN             NaN    NaN  \n",
       "2                   NaN            NaN             NaN    NaN  \n",
       "3                   NaN            NaN             NaN    NaN  \n",
       "4                   NaN            NaN             NaN    NaN  "
      ]
     },
     "execution_count": 6,
     "metadata": {},
     "output_type": "execute_result"
    }
   ],
   "source": [
    "data.head()"
   ]
  },
  {
   "cell_type": "code",
   "execution_count": 7,
   "id": "f7dd8ea7",
   "metadata": {
    "scrolled": true
   },
   "outputs": [
    {
     "data": {
      "text/plain": [
       "author                   1.697470\n",
       "author_type              1.680722\n",
       "link                     0.000000\n",
       "city                     0.000000\n",
       "deal_type                0.000000\n",
       "accommodation_type       0.000000\n",
       "floor                    0.000000\n",
       "floors_count             0.000000\n",
       "rooms_count              0.000000\n",
       "total_meters             0.000000\n",
       "price_per_m2             0.000000\n",
       "price                    0.000000\n",
       "district                60.481690\n",
       "street                  63.384221\n",
       "underground             87.444416\n",
       "residential_complex     82.527865\n",
       "year_of_construction    97.696231\n",
       "living_meters           97.696231\n",
       "kitchen_meters          97.696231\n",
       "phone                   97.696231\n",
       "dtype: float64"
      ]
     },
     "execution_count": 7,
     "metadata": {},
     "output_type": "execute_result"
    }
   ],
   "source": [
    "# Проверка пропусков в процентах.\n",
    "data.isna().mean()*100"
   ]
  },
  {
   "cell_type": "code",
   "execution_count": 8,
   "id": "c5d5b25f",
   "metadata": {},
   "outputs": [],
   "source": [
    "# заполнение пропусков в район на основании метро\n",
    "grouped_data = data.groupby('underground')\n",
    "\n",
    "for name, group in grouped_data:\n",
    "    if not group['district'].isnull().all():\n",
    "   \n",
    "        most_common_value = group['district'].mode().iloc[0]\n",
    "  \n",
    "        data.loc[(data['underground'] == name) & (data['district'].isnull()), 'district'] = most_common_value"
   ]
  },
  {
   "cell_type": "code",
   "execution_count": 9,
   "id": "757fca1b",
   "metadata": {},
   "outputs": [],
   "source": [
    "# заполнение пропусков в район на основании улицы\n",
    "grouped_data = data.groupby('street')\n",
    "\n",
    "for name, group in grouped_data:\n",
    "    if not group['district'].isnull().all():\n",
    "   \n",
    "        most_common_value = group['district'].mode().iloc[0]\n",
    "  \n",
    "        data.loc[(data['street'] == name) & (data['district'].isnull()), 'district'] = most_common_value\n"
   ]
  },
  {
   "cell_type": "code",
   "execution_count": 10,
   "id": "1cff0970",
   "metadata": {},
   "outputs": [],
   "source": [
    "grouped_data = data.groupby('district')\n",
    "\n",
    "# заполнение пропусков в колонке \"метро\" на основе наиболее часто встречающихся значений для каждого района\n",
    "for name, group in grouped_data:\n",
    "    if not group['underground'].isnull().all():\n",
    "    # посчитать наиболее часто встречающиеся значения в колонке \"метро\"\n",
    "        most_common_value = group['underground'].mode().iloc[0]\n",
    "    # заполнить пропуски в колонке \"метро\" для текущего района\n",
    "        data.loc[(data['district'] == name) & (data['underground'].isnull()), 'underground'] = most_common_value"
   ]
  },
  {
   "cell_type": "code",
   "execution_count": 11,
   "id": "9fff1cc1",
   "metadata": {},
   "outputs": [
    {
     "data": {
      "text/plain": [
       "author                   1.697470\n",
       "author_type              1.680722\n",
       "link                     0.000000\n",
       "city                     0.000000\n",
       "deal_type                0.000000\n",
       "accommodation_type       0.000000\n",
       "floor                    0.000000\n",
       "floors_count             0.000000\n",
       "rooms_count              0.000000\n",
       "total_meters             0.000000\n",
       "price_per_m2             0.000000\n",
       "price                    0.000000\n",
       "district                56.356511\n",
       "street                  63.384221\n",
       "underground             64.404211\n",
       "residential_complex     82.527865\n",
       "year_of_construction    97.696231\n",
       "living_meters           97.696231\n",
       "kitchen_meters          97.696231\n",
       "phone                   97.696231\n",
       "dtype: float64"
      ]
     },
     "execution_count": 11,
     "metadata": {},
     "output_type": "execute_result"
    }
   ],
   "source": [
    "data.isna().mean()*100"
   ]
  },
  {
   "cell_type": "code",
   "execution_count": 12,
   "id": "24b15158",
   "metadata": {},
   "outputs": [],
   "source": [
    "# удаление пропусков. Заполняем 0 или заглушкой, поскольку на эти данные надо показать пользователю\n",
    "# с указанием ссылки на объявление, а при заполнении какими-то значениями, мы введём подьзователя в заблуждение.\n",
    "\n",
    "def omissions(data):\n",
    "    for col in data.columns:\n",
    "        if data[col].dtype == \"object\":\n",
    "            data[col] = data[col].fillna('не указано')\n",
    "            data[col] = data[col].astype(\"object\")\n",
    "        if data[col].dtype == \"float\":\n",
    "            data[col] = data[col].fillna(data[col].mean())"
   ]
  },
  {
   "cell_type": "code",
   "execution_count": 13,
   "id": "d7a596a1",
   "metadata": {
    "scrolled": false
   },
   "outputs": [
    {
     "data": {
      "text/plain": [
       "author                  0\n",
       "author_type             0\n",
       "link                    0\n",
       "city                    0\n",
       "deal_type               0\n",
       "accommodation_type      0\n",
       "floor                   0\n",
       "floors_count            0\n",
       "rooms_count             0\n",
       "total_meters            0\n",
       "price_per_m2            0\n",
       "price                   0\n",
       "district                0\n",
       "street                  0\n",
       "underground             0\n",
       "residential_complex     0\n",
       "year_of_construction    0\n",
       "living_meters           0\n",
       "kitchen_meters          0\n",
       "phone                   0\n",
       "dtype: int64"
      ]
     },
     "execution_count": 13,
     "metadata": {},
     "output_type": "execute_result"
    }
   ],
   "source": [
    "omissions(data)\n",
    "data.isna().sum()"
   ]
  },
  {
   "cell_type": "code",
   "execution_count": 14,
   "id": "c6cddb9e",
   "metadata": {},
   "outputs": [],
   "source": [
    "#Замена -1 на 0, так как пропуски при парсере автоматически заполняются -1\n",
    "for col in data.columns:\n",
    "    data[col]=data[col].replace(to_replace=-1, value=0,regex=True)\n"
   ]
  },
  {
   "cell_type": "code",
   "execution_count": 15,
   "id": "31e2910d",
   "metadata": {},
   "outputs": [
    {
     "data": {
      "text/plain": [
       "4380"
      ]
     },
     "execution_count": 15,
     "metadata": {},
     "output_type": "execute_result"
    }
   ],
   "source": [
    "# Проверка дубликатов\n",
    "data.duplicated().sum()"
   ]
  },
  {
   "cell_type": "code",
   "execution_count": 16,
   "id": "ea9f8440",
   "metadata": {
    "scrolled": true
   },
   "outputs": [
    {
     "data": {
      "text/plain": [
       "0"
      ]
     },
     "execution_count": 16,
     "metadata": {},
     "output_type": "execute_result"
    }
   ],
   "source": [
    "#Удаление дубликатов\n",
    "data=data.drop_duplicates()\n",
    "data.duplicated().sum()"
   ]
  },
  {
   "cell_type": "markdown",
   "id": "fb8425ac",
   "metadata": {},
   "source": [
    "## Статистика, корреляция"
   ]
  },
  {
   "cell_type": "code",
   "execution_count": 17,
   "id": "a13fb9ed",
   "metadata": {
    "scrolled": true
   },
   "outputs": [
    {
     "data": {
      "text/html": [
       "<div>\n",
       "<style scoped>\n",
       "    .dataframe tbody tr th:only-of-type {\n",
       "        vertical-align: middle;\n",
       "    }\n",
       "\n",
       "    .dataframe tbody tr th {\n",
       "        vertical-align: top;\n",
       "    }\n",
       "\n",
       "    .dataframe thead th {\n",
       "        text-align: right;\n",
       "    }\n",
       "</style>\n",
       "<table border=\"1\" class=\"dataframe\">\n",
       "  <thead>\n",
       "    <tr style=\"text-align: right;\">\n",
       "      <th></th>\n",
       "      <th>floor</th>\n",
       "      <th>floors_count</th>\n",
       "      <th>rooms_count</th>\n",
       "      <th>total_meters</th>\n",
       "      <th>price_per_m2</th>\n",
       "      <th>price</th>\n",
       "      <th>year_of_construction</th>\n",
       "      <th>living_meters</th>\n",
       "      <th>kitchen_meters</th>\n",
       "      <th>phone</th>\n",
       "    </tr>\n",
       "  </thead>\n",
       "  <tbody>\n",
       "    <tr>\n",
       "      <th>count</th>\n",
       "      <td>115033.000000</td>\n",
       "      <td>115033.000000</td>\n",
       "      <td>115033.000000</td>\n",
       "      <td>115033.000000</td>\n",
       "      <td>1.150330e+05</td>\n",
       "      <td>1.150330e+05</td>\n",
       "      <td>115033.000000</td>\n",
       "      <td>115033.000000</td>\n",
       "      <td>115033.000000</td>\n",
       "      <td>1.150330e+05</td>\n",
       "    </tr>\n",
       "    <tr>\n",
       "      <th>mean</th>\n",
       "      <td>5.246399</td>\n",
       "      <td>9.682422</td>\n",
       "      <td>1.854537</td>\n",
       "      <td>53.316119</td>\n",
       "      <td>1.187831e+05</td>\n",
       "      <td>6.644397e+06</td>\n",
       "      <td>1779.027422</td>\n",
       "      <td>14.499546</td>\n",
       "      <td>6.505883</td>\n",
       "      <td>7.924590e+10</td>\n",
       "    </tr>\n",
       "    <tr>\n",
       "      <th>std</th>\n",
       "      <td>4.788183</td>\n",
       "      <td>6.872652</td>\n",
       "      <td>0.897645</td>\n",
       "      <td>29.168924</td>\n",
       "      <td>7.374081e+05</td>\n",
       "      <td>2.005326e+07</td>\n",
       "      <td>98.275296</td>\n",
       "      <td>2.560064</td>\n",
       "      <td>0.946541</td>\n",
       "      <td>6.876690e+07</td>\n",
       "    </tr>\n",
       "    <tr>\n",
       "      <th>min</th>\n",
       "      <td>0.000000</td>\n",
       "      <td>0.000000</td>\n",
       "      <td>0.000000</td>\n",
       "      <td>0.000000</td>\n",
       "      <td>-1.751134e+07</td>\n",
       "      <td>2.500000e+04</td>\n",
       "      <td>0.000000</td>\n",
       "      <td>0.000000</td>\n",
       "      <td>0.000000</td>\n",
       "      <td>7.800333e+10</td>\n",
       "    </tr>\n",
       "    <tr>\n",
       "      <th>25%</th>\n",
       "      <td>2.000000</td>\n",
       "      <td>5.000000</td>\n",
       "      <td>1.000000</td>\n",
       "      <td>36.450000</td>\n",
       "      <td>6.870900e+04</td>\n",
       "      <td>2.900000e+06</td>\n",
       "      <td>1779.024718</td>\n",
       "      <td>14.490731</td>\n",
       "      <td>6.500545</td>\n",
       "      <td>7.924590e+10</td>\n",
       "    </tr>\n",
       "    <tr>\n",
       "      <th>50%</th>\n",
       "      <td>4.000000</td>\n",
       "      <td>9.000000</td>\n",
       "      <td>2.000000</td>\n",
       "      <td>46.400000</td>\n",
       "      <td>9.251100e+04</td>\n",
       "      <td>4.350000e+06</td>\n",
       "      <td>1779.024718</td>\n",
       "      <td>14.490731</td>\n",
       "      <td>6.500545</td>\n",
       "      <td>7.924590e+10</td>\n",
       "    </tr>\n",
       "    <tr>\n",
       "      <th>75%</th>\n",
       "      <td>7.000000</td>\n",
       "      <td>14.000000</td>\n",
       "      <td>2.000000</td>\n",
       "      <td>62.100000</td>\n",
       "      <td>1.287120e+05</td>\n",
       "      <td>6.650000e+06</td>\n",
       "      <td>1779.024718</td>\n",
       "      <td>14.490731</td>\n",
       "      <td>6.500545</td>\n",
       "      <td>7.924590e+10</td>\n",
       "    </tr>\n",
       "    <tr>\n",
       "      <th>max</th>\n",
       "      <td>85.000000</td>\n",
       "      <td>97.000000</td>\n",
       "      <td>5.000000</td>\n",
       "      <td>941.700000</td>\n",
       "      <td>1.782178e+08</td>\n",
       "      <td>3.100000e+09</td>\n",
       "      <td>2026.000000</td>\n",
       "      <td>367.000000</td>\n",
       "      <td>100.000000</td>\n",
       "      <td>7.989856e+10</td>\n",
       "    </tr>\n",
       "  </tbody>\n",
       "</table>\n",
       "</div>"
      ],
      "text/plain": [
       "               floor   floors_count    rooms_count   total_meters  \\\n",
       "count  115033.000000  115033.000000  115033.000000  115033.000000   \n",
       "mean        5.246399       9.682422       1.854537      53.316119   \n",
       "std         4.788183       6.872652       0.897645      29.168924   \n",
       "min         0.000000       0.000000       0.000000       0.000000   \n",
       "25%         2.000000       5.000000       1.000000      36.450000   \n",
       "50%         4.000000       9.000000       2.000000      46.400000   \n",
       "75%         7.000000      14.000000       2.000000      62.100000   \n",
       "max        85.000000      97.000000       5.000000     941.700000   \n",
       "\n",
       "       price_per_m2         price  year_of_construction  living_meters  \\\n",
       "count  1.150330e+05  1.150330e+05         115033.000000  115033.000000   \n",
       "mean   1.187831e+05  6.644397e+06           1779.027422      14.499546   \n",
       "std    7.374081e+05  2.005326e+07             98.275296       2.560064   \n",
       "min   -1.751134e+07  2.500000e+04              0.000000       0.000000   \n",
       "25%    6.870900e+04  2.900000e+06           1779.024718      14.490731   \n",
       "50%    9.251100e+04  4.350000e+06           1779.024718      14.490731   \n",
       "75%    1.287120e+05  6.650000e+06           1779.024718      14.490731   \n",
       "max    1.782178e+08  3.100000e+09           2026.000000     367.000000   \n",
       "\n",
       "       kitchen_meters         phone  \n",
       "count   115033.000000  1.150330e+05  \n",
       "mean         6.505883  7.924590e+10  \n",
       "std          0.946541  6.876690e+07  \n",
       "min          0.000000  7.800333e+10  \n",
       "25%          6.500545  7.924590e+10  \n",
       "50%          6.500545  7.924590e+10  \n",
       "75%          6.500545  7.924590e+10  \n",
       "max        100.000000  7.989856e+10  "
      ]
     },
     "execution_count": 17,
     "metadata": {},
     "output_type": "execute_result"
    }
   ],
   "source": [
    "# Оценка статистики\n",
    "data.describe()"
   ]
  },
  {
   "cell_type": "code",
   "execution_count": 18,
   "id": "dbb77d83",
   "metadata": {},
   "outputs": [
    {
     "name": "stderr",
     "output_type": "stream",
     "text": [
      "C:\\Users\\AcerUser\\AppData\\Local\\Temp\\ipykernel_12348\\4139358979.py:2: SettingWithCopyWarning: \n",
      "A value is trying to be set on a copy of a slice from a DataFrame.\n",
      "Try using .loc[row_indexer,col_indexer] = value instead\n",
      "\n",
      "See the caveats in the documentation: https://pandas.pydata.org/pandas-docs/stable/user_guide/indexing.html#returning-a-view-versus-a-copy\n",
      "  data['price_per_m2']=data['price_per_m2'].abs()\n"
     ]
    }
   ],
   "source": [
    "#Убираю знак минус в цене, который скорее всего при запонении был тире\n",
    "data['price_per_m2']=data['price_per_m2'].abs()"
   ]
  },
  {
   "cell_type": "code",
   "execution_count": 19,
   "id": "9f011ed1",
   "metadata": {
    "scrolled": false
   },
   "outputs": [
    {
     "name": "stderr",
     "output_type": "stream",
     "text": [
      "C:\\Users\\AcerUser\\AppData\\Local\\Temp\\ipykernel_12348\\3730515234.py:2: FutureWarning: The default value of numeric_only in DataFrame.corr is deprecated. In a future version, it will default to False. Select only valid columns or specify the value of numeric_only to silence this warning.\n",
      "  data.corr()\n"
     ]
    },
    {
     "data": {
      "text/html": [
       "<div>\n",
       "<style scoped>\n",
       "    .dataframe tbody tr th:only-of-type {\n",
       "        vertical-align: middle;\n",
       "    }\n",
       "\n",
       "    .dataframe tbody tr th {\n",
       "        vertical-align: top;\n",
       "    }\n",
       "\n",
       "    .dataframe thead th {\n",
       "        text-align: right;\n",
       "    }\n",
       "</style>\n",
       "<table border=\"1\" class=\"dataframe\">\n",
       "  <thead>\n",
       "    <tr style=\"text-align: right;\">\n",
       "      <th></th>\n",
       "      <th>floor</th>\n",
       "      <th>floors_count</th>\n",
       "      <th>rooms_count</th>\n",
       "      <th>total_meters</th>\n",
       "      <th>price_per_m2</th>\n",
       "      <th>price</th>\n",
       "      <th>year_of_construction</th>\n",
       "      <th>living_meters</th>\n",
       "      <th>kitchen_meters</th>\n",
       "      <th>phone</th>\n",
       "    </tr>\n",
       "  </thead>\n",
       "  <tbody>\n",
       "    <tr>\n",
       "      <th>floor</th>\n",
       "      <td>1.000000</td>\n",
       "      <td>0.674366</td>\n",
       "      <td>-0.023957</td>\n",
       "      <td>0.085115</td>\n",
       "      <td>0.028315</td>\n",
       "      <td>0.112871</td>\n",
       "      <td>0.006307</td>\n",
       "      <td>0.002499</td>\n",
       "      <td>0.008435</td>\n",
       "      <td>0.001154</td>\n",
       "    </tr>\n",
       "    <tr>\n",
       "      <th>floors_count</th>\n",
       "      <td>0.674366</td>\n",
       "      <td>1.000000</td>\n",
       "      <td>-0.047027</td>\n",
       "      <td>0.084399</td>\n",
       "      <td>0.040292</td>\n",
       "      <td>0.131518</td>\n",
       "      <td>0.008232</td>\n",
       "      <td>-0.006611</td>\n",
       "      <td>0.001394</td>\n",
       "      <td>-0.002668</td>\n",
       "    </tr>\n",
       "    <tr>\n",
       "      <th>rooms_count</th>\n",
       "      <td>-0.023957</td>\n",
       "      <td>-0.047027</td>\n",
       "      <td>1.000000</td>\n",
       "      <td>0.542868</td>\n",
       "      <td>-0.015998</td>\n",
       "      <td>0.124129</td>\n",
       "      <td>0.011038</td>\n",
       "      <td>0.044083</td>\n",
       "      <td>0.025651</td>\n",
       "      <td>-0.022068</td>\n",
       "    </tr>\n",
       "    <tr>\n",
       "      <th>total_meters</th>\n",
       "      <td>0.085115</td>\n",
       "      <td>0.084399</td>\n",
       "      <td>0.542868</td>\n",
       "      <td>1.000000</td>\n",
       "      <td>0.009185</td>\n",
       "      <td>0.391213</td>\n",
       "      <td>0.009584</td>\n",
       "      <td>0.073613</td>\n",
       "      <td>0.064984</td>\n",
       "      <td>-0.028381</td>\n",
       "    </tr>\n",
       "    <tr>\n",
       "      <th>price_per_m2</th>\n",
       "      <td>0.028315</td>\n",
       "      <td>0.040292</td>\n",
       "      <td>-0.015998</td>\n",
       "      <td>0.009185</td>\n",
       "      <td>1.000000</td>\n",
       "      <td>0.291834</td>\n",
       "      <td>-0.000043</td>\n",
       "      <td>-0.000376</td>\n",
       "      <td>0.000075</td>\n",
       "      <td>-0.000411</td>\n",
       "    </tr>\n",
       "    <tr>\n",
       "      <th>price</th>\n",
       "      <td>0.112871</td>\n",
       "      <td>0.131518</td>\n",
       "      <td>0.124129</td>\n",
       "      <td>0.391213</td>\n",
       "      <td>0.291834</td>\n",
       "      <td>1.000000</td>\n",
       "      <td>0.001158</td>\n",
       "      <td>0.015499</td>\n",
       "      <td>0.014635</td>\n",
       "      <td>-0.003187</td>\n",
       "    </tr>\n",
       "    <tr>\n",
       "      <th>year_of_construction</th>\n",
       "      <td>0.006307</td>\n",
       "      <td>0.008232</td>\n",
       "      <td>0.011038</td>\n",
       "      <td>0.009584</td>\n",
       "      <td>-0.000043</td>\n",
       "      <td>0.001158</td>\n",
       "      <td>1.000000</td>\n",
       "      <td>0.170842</td>\n",
       "      <td>0.173547</td>\n",
       "      <td>-0.109758</td>\n",
       "    </tr>\n",
       "    <tr>\n",
       "      <th>living_meters</th>\n",
       "      <td>0.002499</td>\n",
       "      <td>-0.006611</td>\n",
       "      <td>0.044083</td>\n",
       "      <td>0.073613</td>\n",
       "      <td>-0.000376</td>\n",
       "      <td>0.015499</td>\n",
       "      <td>0.170842</td>\n",
       "      <td>1.000000</td>\n",
       "      <td>0.527042</td>\n",
       "      <td>0.017035</td>\n",
       "    </tr>\n",
       "    <tr>\n",
       "      <th>kitchen_meters</th>\n",
       "      <td>0.008435</td>\n",
       "      <td>0.001394</td>\n",
       "      <td>0.025651</td>\n",
       "      <td>0.064984</td>\n",
       "      <td>0.000075</td>\n",
       "      <td>0.014635</td>\n",
       "      <td>0.173547</td>\n",
       "      <td>0.527042</td>\n",
       "      <td>1.000000</td>\n",
       "      <td>0.001577</td>\n",
       "    </tr>\n",
       "    <tr>\n",
       "      <th>phone</th>\n",
       "      <td>0.001154</td>\n",
       "      <td>-0.002668</td>\n",
       "      <td>-0.022068</td>\n",
       "      <td>-0.028381</td>\n",
       "      <td>-0.000411</td>\n",
       "      <td>-0.003187</td>\n",
       "      <td>-0.109758</td>\n",
       "      <td>0.017035</td>\n",
       "      <td>0.001577</td>\n",
       "      <td>1.000000</td>\n",
       "    </tr>\n",
       "  </tbody>\n",
       "</table>\n",
       "</div>"
      ],
      "text/plain": [
       "                         floor  floors_count  rooms_count  total_meters  \\\n",
       "floor                 1.000000      0.674366    -0.023957      0.085115   \n",
       "floors_count          0.674366      1.000000    -0.047027      0.084399   \n",
       "rooms_count          -0.023957     -0.047027     1.000000      0.542868   \n",
       "total_meters          0.085115      0.084399     0.542868      1.000000   \n",
       "price_per_m2          0.028315      0.040292    -0.015998      0.009185   \n",
       "price                 0.112871      0.131518     0.124129      0.391213   \n",
       "year_of_construction  0.006307      0.008232     0.011038      0.009584   \n",
       "living_meters         0.002499     -0.006611     0.044083      0.073613   \n",
       "kitchen_meters        0.008435      0.001394     0.025651      0.064984   \n",
       "phone                 0.001154     -0.002668    -0.022068     -0.028381   \n",
       "\n",
       "                      price_per_m2     price  year_of_construction  \\\n",
       "floor                     0.028315  0.112871              0.006307   \n",
       "floors_count              0.040292  0.131518              0.008232   \n",
       "rooms_count              -0.015998  0.124129              0.011038   \n",
       "total_meters              0.009185  0.391213              0.009584   \n",
       "price_per_m2              1.000000  0.291834             -0.000043   \n",
       "price                     0.291834  1.000000              0.001158   \n",
       "year_of_construction     -0.000043  0.001158              1.000000   \n",
       "living_meters            -0.000376  0.015499              0.170842   \n",
       "kitchen_meters            0.000075  0.014635              0.173547   \n",
       "phone                    -0.000411 -0.003187             -0.109758   \n",
       "\n",
       "                      living_meters  kitchen_meters     phone  \n",
       "floor                      0.002499        0.008435  0.001154  \n",
       "floors_count              -0.006611        0.001394 -0.002668  \n",
       "rooms_count                0.044083        0.025651 -0.022068  \n",
       "total_meters               0.073613        0.064984 -0.028381  \n",
       "price_per_m2              -0.000376        0.000075 -0.000411  \n",
       "price                      0.015499        0.014635 -0.003187  \n",
       "year_of_construction       0.170842        0.173547 -0.109758  \n",
       "living_meters              1.000000        0.527042  0.017035  \n",
       "kitchen_meters             0.527042        1.000000  0.001577  \n",
       "phone                      0.017035        0.001577  1.000000  "
      ]
     },
     "execution_count": 19,
     "metadata": {},
     "output_type": "execute_result"
    }
   ],
   "source": [
    "# Корреляция числовых признаков\n",
    "data.corr()"
   ]
  },
  {
   "cell_type": "markdown",
   "id": "c9c66af0",
   "metadata": {},
   "source": [
    "## Оценка категориальных признаков"
   ]
  },
  {
   "cell_type": "code",
   "execution_count": 20,
   "id": "85ca8d7d",
   "metadata": {
    "scrolled": true
   },
   "outputs": [
    {
     "data": {
      "text/plain": [
       "array(['звенигород', 'абакан', 'анапа', 'архангельск', 'астрахань',\n",
       "       'барнаул', 'белгород', 'биробиджан', 'благовещенск', 'брянск',\n",
       "       'бронницы', 'чебоксары', 'челябинск', 'череповец', 'черкесск',\n",
       "       'дмитров', 'долгопрудный', 'дубна', 'дзержинский', 'екатеринбург',\n",
       "       'электросталь', 'элиста', 'фрязино', 'геленджик', 'горно-алтайск',\n",
       "       'грозный', 'хабаровск', 'ханты-мансийск', 'химки', 'иркутск',\n",
       "       'иванов', 'ижевск', 'якутск', 'ярославль', 'йошкар-ола',\n",
       "       'южно-сахалинск', 'калининград', 'калуга', 'казань', 'кострома',\n",
       "       'краснодар', 'красноярск', 'краснознаменск', 'курган', 'курск',\n",
       "       'кызыл', 'липецк', 'лобня', 'лыткарино', 'магадан', 'махачкала',\n",
       "       'майкоп', 'москва', 'мурманск', 'нальчик', 'назрань', 'новгород',\n",
       "       'новороссийск', 'новосибирск', 'омск', 'орехово-зуево', 'орёл',\n",
       "       'оренбург', 'пенза', 'пермь', 'петропавловск-камчатский',\n",
       "       'петрозаводск', 'подольск', 'псков', 'реутов', 'рязань', 'рошаль',\n",
       "       'ростов-на-дону', 'салехард', 'самара', 'санкт-петербург',\n",
       "       'саранск', 'саратов', 'серпухов', 'смоленск', 'сочи', 'ставрополь',\n",
       "       'сургут', 'сыктывкар', 'тамбов', 'тюмень', 'тольятти', 'томск',\n",
       "       'тула', 'тверь', 'уфа', 'улан-удэ', 'ульяновск', 'видный',\n",
       "       'владикавказ', 'владимир', 'владивосток', 'волгоград', 'вологда',\n",
       "       'волоколамск', 'воронеж', 'воскресенск', 'жуковский'], dtype=object)"
      ]
     },
     "execution_count": 20,
     "metadata": {},
     "output_type": "execute_result"
    }
   ],
   "source": [
    "#Посмотрю уникальные значения городов, районом, улиц и т.д.\n",
    "data['city'].unique()"
   ]
  },
  {
   "cell_type": "code",
   "execution_count": 21,
   "id": "ae439282",
   "metadata": {
    "scrolled": false
   },
   "outputs": [
    {
     "name": "stdout",
     "output_type": "stream",
     "text": [
      "<class 'pandas.core.frame.DataFrame'>\n",
      "Int64Index: 2657 entries, 56939 to 59693\n",
      "Data columns (total 20 columns):\n",
      " #   Column                Non-Null Count  Dtype  \n",
      "---  ------                --------------  -----  \n",
      " 0   author                2657 non-null   object \n",
      " 1   author_type           2657 non-null   object \n",
      " 2   link                  2657 non-null   object \n",
      " 3   city                  2657 non-null   object \n",
      " 4   deal_type             2657 non-null   object \n",
      " 5   accommodation_type    2657 non-null   object \n",
      " 6   floor                 2657 non-null   int64  \n",
      " 7   floors_count          2657 non-null   int64  \n",
      " 8   rooms_count           2657 non-null   int64  \n",
      " 9   total_meters          2657 non-null   float64\n",
      " 10  price_per_m2          2657 non-null   int64  \n",
      " 11  price                 2657 non-null   int64  \n",
      " 12  district              2657 non-null   object \n",
      " 13  street                2657 non-null   object \n",
      " 14  underground           2657 non-null   object \n",
      " 15  residential_complex   2657 non-null   object \n",
      " 16  year_of_construction  2657 non-null   float64\n",
      " 17  living_meters         2657 non-null   float64\n",
      " 18  kitchen_meters        2657 non-null   float64\n",
      " 19  phone                 2657 non-null   float64\n",
      "dtypes: float64(5), int64(5), object(10)\n",
      "memory usage: 435.9+ KB\n"
     ]
    }
   ],
   "source": [
    "# Оставляю только Москву\n",
    "data1=data.query('city==\"москва\"')\n",
    "data1.info()"
   ]
  },
  {
   "cell_type": "code",
   "execution_count": 22,
   "id": "0b1f4211",
   "metadata": {},
   "outputs": [
    {
     "data": {
      "text/html": [
       "<div>\n",
       "<style scoped>\n",
       "    .dataframe tbody tr th:only-of-type {\n",
       "        vertical-align: middle;\n",
       "    }\n",
       "\n",
       "    .dataframe tbody tr th {\n",
       "        vertical-align: top;\n",
       "    }\n",
       "\n",
       "    .dataframe thead th {\n",
       "        text-align: right;\n",
       "    }\n",
       "</style>\n",
       "<table border=\"1\" class=\"dataframe\">\n",
       "  <thead>\n",
       "    <tr style=\"text-align: right;\">\n",
       "      <th></th>\n",
       "      <th>floor</th>\n",
       "      <th>floors_count</th>\n",
       "      <th>rooms_count</th>\n",
       "      <th>total_meters</th>\n",
       "      <th>price_per_m2</th>\n",
       "      <th>price</th>\n",
       "      <th>year_of_construction</th>\n",
       "      <th>living_meters</th>\n",
       "      <th>kitchen_meters</th>\n",
       "      <th>phone</th>\n",
       "    </tr>\n",
       "  </thead>\n",
       "  <tbody>\n",
       "    <tr>\n",
       "      <th>count</th>\n",
       "      <td>2657.000000</td>\n",
       "      <td>2657.000000</td>\n",
       "      <td>2657.000000</td>\n",
       "      <td>2657.000000</td>\n",
       "      <td>2.657000e+03</td>\n",
       "      <td>2.657000e+03</td>\n",
       "      <td>2.657000e+03</td>\n",
       "      <td>2.657000e+03</td>\n",
       "      <td>2.657000e+03</td>\n",
       "      <td>2.657000e+03</td>\n",
       "    </tr>\n",
       "    <tr>\n",
       "      <th>mean</th>\n",
       "      <td>10.099737</td>\n",
       "      <td>20.110275</td>\n",
       "      <td>2.147911</td>\n",
       "      <td>88.077407</td>\n",
       "      <td>7.241398e+05</td>\n",
       "      <td>5.578439e+07</td>\n",
       "      <td>1.779025e+03</td>\n",
       "      <td>1.449073e+01</td>\n",
       "      <td>6.500545e+00</td>\n",
       "      <td>7.924590e+10</td>\n",
       "    </tr>\n",
       "    <tr>\n",
       "      <th>std</th>\n",
       "      <td>11.240467</td>\n",
       "      <td>16.471003</td>\n",
       "      <td>1.091256</td>\n",
       "      <td>64.913191</td>\n",
       "      <td>2.963765e+06</td>\n",
       "      <td>9.578981e+07</td>\n",
       "      <td>1.091599e-11</td>\n",
       "      <td>3.855420e-13</td>\n",
       "      <td>6.129585e-14</td>\n",
       "      <td>3.174426e-03</td>\n",
       "    </tr>\n",
       "    <tr>\n",
       "      <th>min</th>\n",
       "      <td>0.000000</td>\n",
       "      <td>0.000000</td>\n",
       "      <td>0.000000</td>\n",
       "      <td>0.000000</td>\n",
       "      <td>2.080200e+04</td>\n",
       "      <td>3.400000e+06</td>\n",
       "      <td>1.779025e+03</td>\n",
       "      <td>1.449073e+01</td>\n",
       "      <td>6.500545e+00</td>\n",
       "      <td>7.924590e+10</td>\n",
       "    </tr>\n",
       "    <tr>\n",
       "      <th>25%</th>\n",
       "      <td>3.000000</td>\n",
       "      <td>9.000000</td>\n",
       "      <td>2.000000</td>\n",
       "      <td>47.300000</td>\n",
       "      <td>2.743680e+05</td>\n",
       "      <td>1.310000e+07</td>\n",
       "      <td>1.779025e+03</td>\n",
       "      <td>1.449073e+01</td>\n",
       "      <td>6.500545e+00</td>\n",
       "      <td>7.924590e+10</td>\n",
       "    </tr>\n",
       "    <tr>\n",
       "      <th>50%</th>\n",
       "      <td>6.000000</td>\n",
       "      <td>17.000000</td>\n",
       "      <td>2.000000</td>\n",
       "      <td>66.000000</td>\n",
       "      <td>4.220770e+05</td>\n",
       "      <td>2.650000e+07</td>\n",
       "      <td>1.779025e+03</td>\n",
       "      <td>1.449073e+01</td>\n",
       "      <td>6.500545e+00</td>\n",
       "      <td>7.924590e+10</td>\n",
       "    </tr>\n",
       "    <tr>\n",
       "      <th>75%</th>\n",
       "      <td>13.000000</td>\n",
       "      <td>25.000000</td>\n",
       "      <td>3.000000</td>\n",
       "      <td>107.900000</td>\n",
       "      <td>6.221540e+05</td>\n",
       "      <td>6.000000e+07</td>\n",
       "      <td>1.779025e+03</td>\n",
       "      <td>1.449073e+01</td>\n",
       "      <td>6.500545e+00</td>\n",
       "      <td>7.924590e+10</td>\n",
       "    </tr>\n",
       "    <tr>\n",
       "      <th>max</th>\n",
       "      <td>85.000000</td>\n",
       "      <td>97.000000</td>\n",
       "      <td>5.000000</td>\n",
       "      <td>941.700000</td>\n",
       "      <td>1.014792e+08</td>\n",
       "      <td>2.455020e+09</td>\n",
       "      <td>1.779025e+03</td>\n",
       "      <td>1.449073e+01</td>\n",
       "      <td>6.500545e+00</td>\n",
       "      <td>7.924590e+10</td>\n",
       "    </tr>\n",
       "  </tbody>\n",
       "</table>\n",
       "</div>"
      ],
      "text/plain": [
       "             floor  floors_count  rooms_count  total_meters  price_per_m2  \\\n",
       "count  2657.000000   2657.000000  2657.000000   2657.000000  2.657000e+03   \n",
       "mean     10.099737     20.110275     2.147911     88.077407  7.241398e+05   \n",
       "std      11.240467     16.471003     1.091256     64.913191  2.963765e+06   \n",
       "min       0.000000      0.000000     0.000000      0.000000  2.080200e+04   \n",
       "25%       3.000000      9.000000     2.000000     47.300000  2.743680e+05   \n",
       "50%       6.000000     17.000000     2.000000     66.000000  4.220770e+05   \n",
       "75%      13.000000     25.000000     3.000000    107.900000  6.221540e+05   \n",
       "max      85.000000     97.000000     5.000000    941.700000  1.014792e+08   \n",
       "\n",
       "              price  year_of_construction  living_meters  kitchen_meters  \\\n",
       "count  2.657000e+03          2.657000e+03   2.657000e+03    2.657000e+03   \n",
       "mean   5.578439e+07          1.779025e+03   1.449073e+01    6.500545e+00   \n",
       "std    9.578981e+07          1.091599e-11   3.855420e-13    6.129585e-14   \n",
       "min    3.400000e+06          1.779025e+03   1.449073e+01    6.500545e+00   \n",
       "25%    1.310000e+07          1.779025e+03   1.449073e+01    6.500545e+00   \n",
       "50%    2.650000e+07          1.779025e+03   1.449073e+01    6.500545e+00   \n",
       "75%    6.000000e+07          1.779025e+03   1.449073e+01    6.500545e+00   \n",
       "max    2.455020e+09          1.779025e+03   1.449073e+01    6.500545e+00   \n",
       "\n",
       "              phone  \n",
       "count  2.657000e+03  \n",
       "mean   7.924590e+10  \n",
       "std    3.174426e-03  \n",
       "min    7.924590e+10  \n",
       "25%    7.924590e+10  \n",
       "50%    7.924590e+10  \n",
       "75%    7.924590e+10  \n",
       "max    7.924590e+10  "
      ]
     },
     "execution_count": 22,
     "metadata": {},
     "output_type": "execute_result"
    }
   ],
   "source": [
    "data1.describe()"
   ]
  },
  {
   "cell_type": "code",
   "execution_count": 23,
   "id": "892fe56a",
   "metadata": {},
   "outputs": [
    {
     "data": {
      "text/plain": [
       "array(['sale'], dtype=object)"
      ]
     },
     "execution_count": 23,
     "metadata": {},
     "output_type": "execute_result"
    }
   ],
   "source": [
    "# Проверка содержимого столбца с типом сделки\n",
    "data1['deal_type'].unique()"
   ]
  },
  {
   "cell_type": "code",
   "execution_count": 24,
   "id": "4eece8f8",
   "metadata": {},
   "outputs": [],
   "source": [
    "#Столбец содержит только одно знаение - продажа. Можно удалить\n",
    "data1=data1.drop('deal_type',axis=1)"
   ]
  },
  {
   "cell_type": "code",
   "execution_count": 25,
   "id": "afb2f41a",
   "metadata": {
    "scrolled": false
   },
   "outputs": [
    {
     "data": {
      "text/plain": [
       "array(['flat'], dtype=object)"
      ]
     },
     "execution_count": 25,
     "metadata": {},
     "output_type": "execute_result"
    }
   ],
   "source": [
    "#Проверка типа недвижимости\n",
    "data1['accommodation_type'].unique()"
   ]
  },
  {
   "cell_type": "code",
   "execution_count": 26,
   "id": "2e534a24",
   "metadata": {},
   "outputs": [],
   "source": [
    "#Столбец содержит только одно значение. Можно удалить\n",
    "data1=data1.drop('accommodation_type',axis=1)"
   ]
  },
  {
   "cell_type": "code",
   "execution_count": 27,
   "id": "31bc57b6",
   "metadata": {},
   "outputs": [
    {
     "data": {
      "text/plain": [
       "array(['академический', 'алексеевский', 'алтуфьевский', 'арбат',\n",
       "       'аэропорт', 'бабушкинский', 'басманный', 'беговой',\n",
       "       'бескудниковский', 'бибирево', 'бирюлево восточное',\n",
       "       'бирюлево западное', 'богородское', 'братеево', 'бутырский',\n",
       "       'вешняки', 'внуково', 'войковский', 'восточное дегунино',\n",
       "       'восточное измайлово', 'выхино-жулебино', 'гагаринский',\n",
       "       'головинский', 'гольяново', 'даниловский', 'дмитровский',\n",
       "       'донской', 'дорогомилово', 'замоскворечье', 'западное дегунино',\n",
       "       'зюзино', 'зябликово', 'ивановское', 'измайлово', 'коньково',\n",
       "       'коптево', 'косино-ухтомский', 'котловка', 'красносельский',\n",
       "       'крылатское', 'крюково', 'кузьминки', 'кунцево', 'левобережный',\n",
       "       'лефортово', 'ломоносовский', 'лосиноостровский',\n",
       "       'лучшая кв-ра в е!свежий ремонт3-комн. кв.', 'люблино', 'марфино',\n",
       "       'марьина роща', 'марьино', 'метрогородок', 'мещанский', 'митино',\n",
       "       'можайский', 'молжаниновский', 'москворечье-сабурово',\n",
       "       'нагатино-садовники', 'нагатинский затон', 'нагорный',\n",
       "       'не указано', 'некрасовка', 'нижегородский', 'ново-переделкино',\n",
       "       'новогиреево', 'обручевский', 'орехово-борисово северное',\n",
       "       'орехово-борисово южное', 'останкинский', 'отрадное',\n",
       "       'очаково-матвеевское', 'перово', 'печатники',\n",
       "       'покровское-стрешнево', 'преображенское', 'пресненский',\n",
       "       'проспект вернадского', 'раменки', 'ростокино', 'рязанский',\n",
       "       'савеловский',\n",
       "       'светлая двушка с застекленной лоджией в экологически чистом е новой москвы в жк \"марьино град\" без отделки из первых рук! московская прописка. планировка лучшая в этом е - сравните с противоположной  на плане - холл шире на 30% и санузел также почти на 30% больше ! окна во двор и на юго-запад - отличная инсоляция! площадь указана с учетом лоджии. очень большой санузел более 10 кв.м. можно с противоположной квартирой устроить тамбур на 2 квартиры. в доме грузопассажирский лифт. в подъезде  почти все квартиры уже отремонтированы и заселены. дворы благоустроены : множество оборудованных детских и спортивных площадок. территория комплекса огорожена. район с развитой инфраструктурой: поликлиника',\n",
       "       'свиблово', 'северное бутово', 'северное измайлово',\n",
       "       'северное медведково', 'северное тушино', 'северный', 'сокол',\n",
       "       'соколиная гора', 'сокольники', 'солнцево', 'строгино',\n",
       "       'таганский', 'тверской', 'текстильщики', 'теплый стан',\n",
       "       'тимирязевский', 'тропарево-никулино', 'филевский парк',\n",
       "       'фили-давыдково', 'хамовники', 'ховрино', 'хорошево-мневники',\n",
       "       'хорошевский', 'царицыно', 'черемушки', 'чертаново северное',\n",
       "       'чертаново центральное', 'чертаново южное', 'щукино',\n",
       "       'южное бутово', 'южное медведково', 'южное тушино', 'южнопортовый',\n",
       "       'якиманка', 'ярославский', 'ясенево'], dtype=object)"
      ]
     },
     "execution_count": 27,
     "metadata": {},
     "output_type": "execute_result"
    }
   ],
   "source": [
    "data1['district'].sort_values().unique()"
   ]
  },
  {
   "cell_type": "code",
   "execution_count": 28,
   "id": "a908683e",
   "metadata": {},
   "outputs": [],
   "source": [
    "# Так как вместо названия района попадаются объясления и ненужный текст, создаём правило, которое оставит только тест, содержадий не более 3х слов\n",
    "def remove_long_text(text):\n",
    "    words = text.split()\n",
    "    if len(words) > 3:\n",
    "        return None\n",
    "    else:\n",
    "        return text\n",
    "\n",
    "# Применяем функцию remove_long_text() к колонке \"district\" и сохраняем результат в новую колонку \"clean_district\"\n",
    "data1['clean_district'] = data1['district'].apply(remove_long_text)\n",
    "\n",
    "# Удаляем все строки с пустыми значениями в колонке \"clean_text\"\n",
    "data1.dropna(subset=['clean_district'], inplace=True)\n",
    "\n",
    "# Удаляем колонку \"district\"\n",
    "data1.drop('district', axis=1, inplace=True)\n"
   ]
  },
  {
   "cell_type": "code",
   "execution_count": 29,
   "id": "332c419d",
   "metadata": {},
   "outputs": [],
   "source": [
    "#Возвращаем прежнее название колонки\n",
    "data1= data1.rename(columns={'clean_district': 'district'})"
   ]
  },
  {
   "cell_type": "code",
   "execution_count": 30,
   "id": "a6bac87a",
   "metadata": {
    "scrolled": true
   },
   "outputs": [
    {
     "data": {
      "text/plain": [
       "array(['академический', 'алексеевский', 'алтуфьевский', 'арбат',\n",
       "       'аэропорт', 'бабушкинский', 'басманный', 'беговой',\n",
       "       'бескудниковский', 'бибирево', 'бирюлево восточное',\n",
       "       'бирюлево западное', 'богородское', 'братеево', 'бутырский',\n",
       "       'вешняки', 'внуково', 'войковский', 'восточное дегунино',\n",
       "       'восточное измайлово', 'выхино-жулебино', 'гагаринский',\n",
       "       'головинский', 'гольяново', 'даниловский', 'дмитровский',\n",
       "       'донской', 'дорогомилово', 'замоскворечье', 'западное дегунино',\n",
       "       'зюзино', 'зябликово', 'ивановское', 'измайлово', 'коньково',\n",
       "       'коптево', 'косино-ухтомский', 'котловка', 'красносельский',\n",
       "       'крылатское', 'крюково', 'кузьминки', 'кунцево', 'левобережный',\n",
       "       'лефортово', 'ломоносовский', 'лосиноостровский', 'люблино',\n",
       "       'марфино', 'марьина роща', 'марьино', 'метрогородок', 'мещанский',\n",
       "       'митино', 'можайский', 'молжаниновский', 'москворечье-сабурово',\n",
       "       'нагатино-садовники', 'нагатинский затон', 'нагорный',\n",
       "       'не указано', 'некрасовка', 'нижегородский', 'ново-переделкино',\n",
       "       'новогиреево', 'обручевский', 'орехово-борисово северное',\n",
       "       'орехово-борисово южное', 'останкинский', 'отрадное',\n",
       "       'очаково-матвеевское', 'перово', 'печатники',\n",
       "       'покровское-стрешнево', 'преображенское', 'пресненский',\n",
       "       'проспект вернадского', 'раменки', 'ростокино', 'рязанский',\n",
       "       'савеловский', 'свиблово', 'северное бутово', 'северное измайлово',\n",
       "       'северное медведково', 'северное тушино', 'северный', 'сокол',\n",
       "       'соколиная гора', 'сокольники', 'солнцево', 'строгино',\n",
       "       'таганский', 'тверской', 'текстильщики', 'теплый стан',\n",
       "       'тимирязевский', 'тропарево-никулино', 'филевский парк',\n",
       "       'фили-давыдково', 'хамовники', 'ховрино', 'хорошево-мневники',\n",
       "       'хорошевский', 'царицыно', 'черемушки', 'чертаново северное',\n",
       "       'чертаново центральное', 'чертаново южное', 'щукино',\n",
       "       'южное бутово', 'южное медведково', 'южное тушино', 'южнопортовый',\n",
       "       'якиманка', 'ярославский', 'ясенево'], dtype=object)"
      ]
     },
     "execution_count": 30,
     "metadata": {},
     "output_type": "execute_result"
    }
   ],
   "source": [
    "data1['district'].sort_values().unique()"
   ]
  },
  {
   "cell_type": "code",
   "execution_count": 31,
   "id": "b2b51793",
   "metadata": {},
   "outputs": [
    {
     "name": "stdout",
     "output_type": "stream",
     "text": [
      "<class 'pandas.core.frame.DataFrame'>\n",
      "Int64Index: 2655 entries, 56939 to 59693\n",
      "Data columns (total 16 columns):\n",
      " #   Column                Non-Null Count  Dtype  \n",
      "---  ------                --------------  -----  \n",
      " 0   author_type           2655 non-null   object \n",
      " 1   link                  2655 non-null   object \n",
      " 2   city                  2655 non-null   object \n",
      " 3   floor                 2655 non-null   int64  \n",
      " 4   floors_count          2655 non-null   int64  \n",
      " 5   rooms_count           2655 non-null   int64  \n",
      " 6   total_meters          2655 non-null   float64\n",
      " 7   price_per_m2          2655 non-null   int64  \n",
      " 8   price                 2655 non-null   int64  \n",
      " 9   underground           2655 non-null   object \n",
      " 10  residential_complex   2655 non-null   object \n",
      " 11  year_of_construction  2655 non-null   float64\n",
      " 12  living_meters         2655 non-null   float64\n",
      " 13  kitchen_meters        2655 non-null   float64\n",
      " 14  phone                 2655 non-null   float64\n",
      " 15  district              2655 non-null   object \n",
      "dtypes: float64(5), int64(5), object(6)\n",
      "memory usage: 352.6+ KB\n"
     ]
    }
   ],
   "source": [
    "# Колонки с названием застройщика удаляем. В данном случае - это лишняя информация (есть название метро и района)\n",
    "# Также удаляем название автора, оставляя тип автора\n",
    "data1=data1.drop(['street', 'author'], axis=1)\n",
    "data1.info()"
   ]
  },
  {
   "cell_type": "markdown",
   "id": "872fbe6a",
   "metadata": {},
   "source": [
    "## Оценка числовых признаков"
   ]
  },
  {
   "cell_type": "code",
   "execution_count": 32,
   "id": "6941f66e",
   "metadata": {},
   "outputs": [
    {
     "data": {
      "text/plain": [
       "array([1779.02471828])"
      ]
     },
     "execution_count": 32,
     "metadata": {},
     "output_type": "execute_result"
    }
   ],
   "source": [
    "#Так как значения года имеет нетипичные данные, проверю содержание признака\n",
    "data1['year_of_construction'].unique()"
   ]
  },
  {
   "cell_type": "code",
   "execution_count": 33,
   "id": "660bf28b",
   "metadata": {},
   "outputs": [],
   "source": [
    "#По данным Москвы год постройки в объявлениях не указан.Столбец удалю\n",
    "data1=data1.drop('year_of_construction', axis=1)"
   ]
  },
  {
   "cell_type": "code",
   "execution_count": 34,
   "id": "c3098df8",
   "metadata": {},
   "outputs": [
    {
     "data": {
      "text/plain": [
       "array([[<Axes: title={'center': 'floor'}>,\n",
       "        <Axes: title={'center': 'floors_count'}>,\n",
       "        <Axes: title={'center': 'rooms_count'}>],\n",
       "       [<Axes: title={'center': 'total_meters'}>,\n",
       "        <Axes: title={'center': 'price_per_m2'}>,\n",
       "        <Axes: title={'center': 'price'}>],\n",
       "       [<Axes: title={'center': 'living_meters'}>,\n",
       "        <Axes: title={'center': 'kitchen_meters'}>, <Axes: >]],\n",
       "      dtype=object)"
      ]
     },
     "execution_count": 34,
     "metadata": {},
     "output_type": "execute_result"
    },
    {
     "data": {
      "image/png": "[encoded data removed]",
      "text/plain": [
       "<Figure size 800x800 with 9 Axes>"
      ]
     },
     "metadata": {},
     "output_type": "display_data"
    }
   ],
   "source": [
    "#Новая визуализация без номера телефона\n",
    "data1.drop('phone', axis=1).hist(figsize=(8,8))"
   ]
  },
  {
   "cell_type": "code",
   "execution_count": 35,
   "id": "4eb91c20",
   "metadata": {},
   "outputs": [
    {
     "data": {
      "text/plain": [
       "count    2655.000000\n",
       "mean       10.105085\n",
       "std        11.243011\n",
       "min         0.000000\n",
       "25%         3.000000\n",
       "50%         6.000000\n",
       "75%        13.000000\n",
       "max        85.000000\n",
       "Name: floor, dtype: float64"
      ]
     },
     "execution_count": 35,
     "metadata": {},
     "output_type": "execute_result"
    }
   ],
   "source": [
    "data1['floor'].describe()"
   ]
  },
  {
   "cell_type": "code",
   "execution_count": 36,
   "id": "29ae66f2",
   "metadata": {
    "scrolled": false
   },
   "outputs": [
    {
     "data": {
      "text/plain": [
       "<Axes: >"
      ]
     },
     "execution_count": 36,
     "metadata": {},
     "output_type": "execute_result"
    },
    {
     "data": {
      "image/png": "[encoded data removed]",
      "text/plain": [
       "<Figure size 500x800 with 1 Axes>"
      ]
     },
     "metadata": {},
     "output_type": "display_data"
    }
   ],
   "source": [
    "data1.floor.plot(kind='box', figsize=(5,8))"
   ]
  },
  {
   "cell_type": "code",
   "execution_count": 37,
   "id": "d815b772",
   "metadata": {},
   "outputs": [
    {
     "data": {
      "text/plain": [
       "count    2655.000000\n",
       "mean       20.120151\n",
       "std        16.473068\n",
       "min         0.000000\n",
       "25%         9.000000\n",
       "50%        17.000000\n",
       "75%        25.000000\n",
       "max        97.000000\n",
       "Name: floors_count, dtype: float64"
      ]
     },
     "execution_count": 37,
     "metadata": {},
     "output_type": "execute_result"
    }
   ],
   "source": [
    "data1['floors_count'].describe()"
   ]
  },
  {
   "cell_type": "code",
   "execution_count": 38,
   "id": "9ee79180",
   "metadata": {
    "scrolled": false
   },
   "outputs": [
    {
     "data": {
      "text/plain": [
       "<Axes: >"
      ]
     },
     "execution_count": 38,
     "metadata": {},
     "output_type": "execute_result"
    },
    {
     "data": {
      "image/png": "[encoded data removed]",
      "text/plain": [
       "<Figure size 500x800 with 1 Axes>"
      ]
     },
     "metadata": {},
     "output_type": "display_data"
    }
   ],
   "source": [
    "data1.floors_count.plot(kind='box', figsize=(5,8))"
   ]
  },
  {
   "cell_type": "code",
   "execution_count": 39,
   "id": "9b4c3eee",
   "metadata": {},
   "outputs": [
    {
     "data": {
      "text/plain": [
       "count    2655.000000\n",
       "mean        2.147646\n",
       "std         1.091538\n",
       "min         0.000000\n",
       "25%         2.000000\n",
       "50%         2.000000\n",
       "75%         3.000000\n",
       "max         5.000000\n",
       "Name: rooms_count, dtype: float64"
      ]
     },
     "execution_count": 39,
     "metadata": {},
     "output_type": "execute_result"
    }
   ],
   "source": [
    "data1['rooms_count'].describe()"
   ]
  },
  {
   "cell_type": "code",
   "execution_count": 40,
   "id": "5131c2c0",
   "metadata": {},
   "outputs": [],
   "source": [
    "data1=data1.query('rooms_count>0')"
   ]
  },
  {
   "cell_type": "code",
   "execution_count": 41,
   "id": "0f574fec",
   "metadata": {},
   "outputs": [
    {
     "data": {
      "text/plain": [
       "<Axes: >"
      ]
     },
     "execution_count": 41,
     "metadata": {},
     "output_type": "execute_result"
    },
    {
     "data": {
      "image/png": "[encoded data removed]",
      "text/plain": [
       "<Figure size 500x800 with 1 Axes>"
      ]
     },
     "metadata": {},
     "output_type": "display_data"
    }
   ],
   "source": [
    "data1.rooms_count.plot(kind='box', figsize=(5,8))"
   ]
  },
  {
   "cell_type": "code",
   "execution_count": 42,
   "id": "fbbad76a",
   "metadata": {},
   "outputs": [
    {
     "data": {
      "text/plain": [
       "count    2416.00000\n",
       "mean       80.84255\n",
       "std        51.05045\n",
       "min         0.60000\n",
       "25%        47.60000\n",
       "50%        64.90000\n",
       "75%        97.15000\n",
       "max       473.80000\n",
       "Name: total_meters, dtype: float64"
      ]
     },
     "execution_count": 42,
     "metadata": {},
     "output_type": "execute_result"
    }
   ],
   "source": [
    "data1['total_meters'].describe()"
   ]
  },
  {
   "cell_type": "code",
   "execution_count": 43,
   "id": "b902f22d",
   "metadata": {
    "scrolled": false
   },
   "outputs": [
    {
     "data": {
      "text/plain": [
       "<Axes: >"
      ]
     },
     "execution_count": 43,
     "metadata": {},
     "output_type": "execute_result"
    },
    {
     "data": {
      "image/png": "[encoded data removed]",
      "text/plain": [
       "<Figure size 500x800 with 1 Axes>"
      ]
     },
     "metadata": {},
     "output_type": "display_data"
    }
   ],
   "source": [
    "data.total_meters.plot(kind='box', figsize=(5,8))"
   ]
  },
  {
   "cell_type": "code",
   "execution_count": 44,
   "id": "8393bf63",
   "metadata": {},
   "outputs": [],
   "source": [
    "# Ограничу площадь 9 кв. и 80% квартилем\n",
    "q90=data1['total_meters'].quantile(0.9)\n",
    "data1 = data1.query('total_meters >9 and total_meters <= @q90')"
   ]
  },
  {
   "cell_type": "code",
   "execution_count": 45,
   "id": "d6ddcaae",
   "metadata": {},
   "outputs": [
    {
     "data": {
      "text/plain": [
       "<Axes: >"
      ]
     },
     "execution_count": 45,
     "metadata": {},
     "output_type": "execute_result"
    },
    {
     "data": {
      "image/png": "[encoded data removed]",
      "text/plain": [
       "<Figure size 500x800 with 1 Axes>"
      ]
     },
     "metadata": {},
     "output_type": "display_data"
    }
   ],
   "source": [
    "data1.total_meters.plot(kind='box', figsize=(5,8))"
   ]
  },
  {
   "cell_type": "code",
   "execution_count": 46,
   "id": "2b43a713",
   "metadata": {},
   "outputs": [
    {
     "data": {
      "text/plain": [
       "count    2.175000e+03\n",
       "mean     4.831863e+05\n",
       "std      3.086891e+05\n",
       "min      1.250000e+05\n",
       "25%      2.730160e+05\n",
       "50%      4.046150e+05\n",
       "75%      5.791110e+05\n",
       "max      2.708333e+06\n",
       "Name: price_per_m2, dtype: float64"
      ]
     },
     "execution_count": 46,
     "metadata": {},
     "output_type": "execute_result"
    }
   ],
   "source": [
    "data1['price_per_m2'].describe()"
   ]
  },
  {
   "cell_type": "code",
   "execution_count": 47,
   "id": "9d11aacf",
   "metadata": {
    "scrolled": false
   },
   "outputs": [
    {
     "data": {
      "image/png": "[encoded data removed]",
      "text/plain": [
       "<Figure size 500x800 with 1 Axes>"
      ]
     },
     "metadata": {},
     "output_type": "display_data"
    }
   ],
   "source": [
    "ax=data1.price_per_m2.plot(kind='box', figsize=(5,8))\n",
    "ax.ticklabel_format(useOffset=False, style='plain', axis='y')"
   ]
  },
  {
   "cell_type": "code",
   "execution_count": 48,
   "id": "25cb7d85",
   "metadata": {},
   "outputs": [],
   "source": [
    "#определение 10% и 90% квартилей, чтобы всё, что выходит за рамки убрать\n",
    "\n",
    "q10 = data1['price_per_m2'].quantile(0.1)\n",
    "q80 = data1['price_per_m2'].quantile(0.8)\n"
   ]
  },
  {
   "cell_type": "code",
   "execution_count": 49,
   "id": "d1389c34",
   "metadata": {},
   "outputs": [],
   "source": [
    "data1 = data1.query('price_per_m2 >= @q10 and price_per_m2 <= @q80')"
   ]
  },
  {
   "cell_type": "code",
   "execution_count": 50,
   "id": "85ed8177",
   "metadata": {},
   "outputs": [
    {
     "data": {
      "image/png": "[encoded data removed]",
      "text/plain": [
       "<Figure size 500x800 with 1 Axes>"
      ]
     },
     "metadata": {},
     "output_type": "display_data"
    }
   ],
   "source": [
    "ax=data1.price_per_m2.plot(kind='box', figsize=(5,8))\n",
    "ax.ticklabel_format(useOffset=False, style='plain', axis='y')"
   ]
  },
  {
   "cell_type": "code",
   "execution_count": 51,
   "id": "0fe76184",
   "metadata": {
    "scrolled": false
   },
   "outputs": [
    {
     "data": {
      "image/png": "[encoded data removed]",
      "text/plain": [
       "<Figure size 600x1000 with 1 Axes>"
      ]
     },
     "metadata": {},
     "output_type": "display_data"
    }
   ],
   "source": [
    "ax=data1.price.plot(kind='box', figsize=(6,10))\n",
    "ax.ticklabel_format(useOffset=False, style='plain', axis='y')"
   ]
  },
  {
   "cell_type": "code",
   "execution_count": 52,
   "id": "56335f28",
   "metadata": {},
   "outputs": [],
   "source": [
    "# убираю цены, которые встречаются крайне редко\n",
    "data1=data1.query('1000000<price<100000000')"
   ]
  },
  {
   "cell_type": "code",
   "execution_count": 53,
   "id": "59f119da",
   "metadata": {},
   "outputs": [
    {
     "data": {
      "image/png": "[encoded data removed]",
      "text/plain": [
       "<Figure size 600x1000 with 1 Axes>"
      ]
     },
     "metadata": {},
     "output_type": "display_data"
    }
   ],
   "source": [
    "ax=data1.price.plot(kind='box', figsize=(6,10))\n",
    "ax.ticklabel_format(useOffset=False, style='plain', axis='y')"
   ]
  },
  {
   "cell_type": "code",
   "execution_count": 54,
   "id": "4e654505",
   "metadata": {
    "scrolled": true
   },
   "outputs": [
    {
     "data": {
      "text/plain": [
       "count    115033.000000\n",
       "mean         14.499546\n",
       "std           2.560064\n",
       "min           0.000000\n",
       "25%          14.490731\n",
       "50%          14.490731\n",
       "75%          14.490731\n",
       "max         367.000000\n",
       "Name: living_meters, dtype: float64"
      ]
     },
     "execution_count": 54,
     "metadata": {},
     "output_type": "execute_result"
    }
   ],
   "source": [
    "data['living_meters'].describe()"
   ]
  },
  {
   "cell_type": "code",
   "execution_count": 55,
   "id": "eb8c4f08",
   "metadata": {},
   "outputs": [
    {
     "data": {
      "text/plain": [
       "count    115033.000000\n",
       "mean          6.505883\n",
       "std           0.946541\n",
       "min           0.000000\n",
       "25%           6.500545\n",
       "50%           6.500545\n",
       "75%           6.500545\n",
       "max         100.000000\n",
       "Name: kitchen_meters, dtype: float64"
      ]
     },
     "execution_count": 55,
     "metadata": {},
     "output_type": "execute_result"
    }
   ],
   "source": [
    "data['kitchen_meters'].describe()"
   ]
  },
  {
   "cell_type": "code",
   "execution_count": 56,
   "id": "9d4972df",
   "metadata": {
    "scrolled": false
   },
   "outputs": [
    {
     "data": {
      "text/plain": [
       "array([[<Axes: title={'center': 'floor'}>,\n",
       "        <Axes: title={'center': 'floors_count'}>,\n",
       "        <Axes: title={'center': 'rooms_count'}>],\n",
       "       [<Axes: title={'center': 'total_meters'}>,\n",
       "        <Axes: title={'center': 'price_per_m2'}>,\n",
       "        <Axes: title={'center': 'price'}>],\n",
       "       [<Axes: title={'center': 'living_meters'}>,\n",
       "        <Axes: title={'center': 'kitchen_meters'}>, <Axes: >]],\n",
       "      dtype=object)"
      ]
     },
     "execution_count": 56,
     "metadata": {},
     "output_type": "execute_result"
    },
    {
     "data": {
      "image/png": "[encoded data removed]",
      "text/plain": [
       "<Figure size 800x800 with 9 Axes>"
      ]
     },
     "metadata": {},
     "output_type": "display_data"
    }
   ],
   "source": [
    "data1.drop('phone',axis=1).hist(figsize=(8,8))"
   ]
  },
  {
   "cell_type": "markdown",
   "id": "c0df978d",
   "metadata": {},
   "source": [
    "## Удаление лишних признаков и исправление оставшихся ошибок"
   ]
  },
  {
   "cell_type": "code",
   "execution_count": 57,
   "id": "5a94b0b9",
   "metadata": {},
   "outputs": [],
   "source": [
    "#Для обучения модели оставляем датасет без ссылок, номера телефона, жилой площади и площади кухни (данных по ним практически нет)\n",
    "data_model=data1.drop(['link', 'living_meters', 'kitchen_meters', 'phone'], axis=1)\n",
    "data_model.to_csv('data_model.csv',index=False)"
   ]
  },
  {
   "cell_type": "code",
   "execution_count": 58,
   "id": "6416db92",
   "metadata": {},
   "outputs": [],
   "source": [
    "#Сохраняем таблицу с ссылками\n",
    "data1=data1.drop(['living_meters', 'kitchen_meters', 'phone'], axis=1)\n",
    "data1.to_csv('data_fin.csv',index=False)"
   ]
  },
  {
   "cell_type": "code",
   "execution_count": 59,
   "id": "69eee040",
   "metadata": {},
   "outputs": [
    {
     "data": {
      "text/html": [
       "<div>\n",
       "<style scoped>\n",
       "    .dataframe tbody tr th:only-of-type {\n",
       "        vertical-align: middle;\n",
       "    }\n",
       "\n",
       "    .dataframe tbody tr th {\n",
       "        vertical-align: top;\n",
       "    }\n",
       "\n",
       "    .dataframe thead th {\n",
       "        text-align: right;\n",
       "    }\n",
       "</style>\n",
       "<table border=\"1\" class=\"dataframe\">\n",
       "  <thead>\n",
       "    <tr style=\"text-align: right;\">\n",
       "      <th></th>\n",
       "      <th>author_type</th>\n",
       "      <th>link</th>\n",
       "      <th>city</th>\n",
       "      <th>floor</th>\n",
       "      <th>floors_count</th>\n",
       "      <th>rooms_count</th>\n",
       "      <th>total_meters</th>\n",
       "      <th>price_per_m2</th>\n",
       "      <th>price</th>\n",
       "      <th>underground</th>\n",
       "      <th>residential_complex</th>\n",
       "      <th>district</th>\n",
       "    </tr>\n",
       "  </thead>\n",
       "  <tbody>\n",
       "    <tr>\n",
       "      <th>56939</th>\n",
       "      <td>developer</td>\n",
       "      <td>https://www.cian.ru/sale/flat/277738124/</td>\n",
       "      <td>москва</td>\n",
       "      <td>5</td>\n",
       "      <td>21</td>\n",
       "      <td>2</td>\n",
       "      <td>77.85</td>\n",
       "      <td>437636</td>\n",
       "      <td>34069999</td>\n",
       "      <td>белорусская</td>\n",
       "      <td>глоракс премиум белорусская</td>\n",
       "      <td>беговой</td>\n",
       "    </tr>\n",
       "    <tr>\n",
       "      <th>56945</th>\n",
       "      <td>developer</td>\n",
       "      <td>https://www.cian.ru/sale/flat/285606684/</td>\n",
       "      <td>москва</td>\n",
       "      <td>2</td>\n",
       "      <td>21</td>\n",
       "      <td>2</td>\n",
       "      <td>61.00</td>\n",
       "      <td>447278</td>\n",
       "      <td>27284000</td>\n",
       "      <td>ботанический сад</td>\n",
       "      <td>союз</td>\n",
       "      <td>ростокино</td>\n",
       "    </tr>\n",
       "    <tr>\n",
       "      <th>56946</th>\n",
       "      <td>developer</td>\n",
       "      <td>https://www.cian.ru/sale/flat/284037220/</td>\n",
       "      <td>москва</td>\n",
       "      <td>8</td>\n",
       "      <td>17</td>\n",
       "      <td>2</td>\n",
       "      <td>62.00</td>\n",
       "      <td>372602</td>\n",
       "      <td>23101349</td>\n",
       "      <td>зил</td>\n",
       "      <td>шагал жк</td>\n",
       "      <td>даниловский</td>\n",
       "    </tr>\n",
       "    <tr>\n",
       "      <th>56948</th>\n",
       "      <td>developer</td>\n",
       "      <td>https://www.cian.ru/sale/flat/281257851/</td>\n",
       "      <td>москва</td>\n",
       "      <td>4</td>\n",
       "      <td>41</td>\n",
       "      <td>2</td>\n",
       "      <td>60.30</td>\n",
       "      <td>587442</td>\n",
       "      <td>35422783</td>\n",
       "      <td>лужники</td>\n",
       "      <td>hide</td>\n",
       "      <td>раменки</td>\n",
       "    </tr>\n",
       "    <tr>\n",
       "      <th>56950</th>\n",
       "      <td>developer</td>\n",
       "      <td>https://www.cian.ru/sale/flat/280707242/</td>\n",
       "      <td>москва</td>\n",
       "      <td>13</td>\n",
       "      <td>45</td>\n",
       "      <td>2</td>\n",
       "      <td>73.40</td>\n",
       "      <td>509750</td>\n",
       "      <td>37415683</td>\n",
       "      <td>фили</td>\n",
       "      <td>river park towers кутузовский</td>\n",
       "      <td>дорогомилово</td>\n",
       "    </tr>\n",
       "  </tbody>\n",
       "</table>\n",
       "</div>"
      ],
      "text/plain": [
       "      author_type                                      link    city  floor  \\\n",
       "56939   developer  https://www.cian.ru/sale/flat/277738124/  москва      5   \n",
       "56945   developer  https://www.cian.ru/sale/flat/285606684/  москва      2   \n",
       "56946   developer  https://www.cian.ru/sale/flat/284037220/  москва      8   \n",
       "56948   developer  https://www.cian.ru/sale/flat/281257851/  москва      4   \n",
       "56950   developer  https://www.cian.ru/sale/flat/280707242/  москва     13   \n",
       "\n",
       "       floors_count  rooms_count  total_meters  price_per_m2     price  \\\n",
       "56939            21            2         77.85        437636  34069999   \n",
       "56945            21            2         61.00        447278  27284000   \n",
       "56946            17            2         62.00        372602  23101349   \n",
       "56948            41            2         60.30        587442  35422783   \n",
       "56950            45            2         73.40        509750  37415683   \n",
       "\n",
       "            underground            residential_complex      district  \n",
       "56939       белорусская    глоракс премиум белорусская       беговой  \n",
       "56945  ботанический сад                           союз     ростокино  \n",
       "56946               зил                       шагал жк   даниловский  \n",
       "56948           лужники                           hide       раменки  \n",
       "56950              фили  river park towers кутузовский  дорогомилово  "
      ]
     },
     "execution_count": 59,
     "metadata": {},
     "output_type": "execute_result"
    }
   ],
   "source": [
    "data1.head()"
   ]
  },
  {
   "cell_type": "code",
   "execution_count": 60,
   "id": "463f5071",
   "metadata": {},
   "outputs": [
    {
     "name": "stdout",
     "output_type": "stream",
     "text": [
      "<class 'pandas.core.frame.DataFrame'>\n",
      "Int64Index: 1522 entries, 56939 to 59693\n",
      "Data columns (total 12 columns):\n",
      " #   Column               Non-Null Count  Dtype  \n",
      "---  ------               --------------  -----  \n",
      " 0   author_type          1522 non-null   object \n",
      " 1   link                 1522 non-null   object \n",
      " 2   city                 1522 non-null   object \n",
      " 3   floor                1522 non-null   int64  \n",
      " 4   floors_count         1522 non-null   int64  \n",
      " 5   rooms_count          1522 non-null   int64  \n",
      " 6   total_meters         1522 non-null   float64\n",
      " 7   price_per_m2         1522 non-null   int64  \n",
      " 8   price                1522 non-null   int64  \n",
      " 9   underground          1522 non-null   object \n",
      " 10  residential_complex  1522 non-null   object \n",
      " 11  district             1522 non-null   object \n",
      "dtypes: float64(1), int64(5), object(6)\n",
      "memory usage: 154.6+ KB\n"
     ]
    }
   ],
   "source": [
    "data1.info()"
   ]
  },
  {
   "cell_type": "code",
   "execution_count": null,
   "id": "437c7257",
   "metadata": {},
   "outputs": [],
   "source": []
  }
 ],
 "metadata": {
  "kernelspec": {
   "display_name": "Python 3 (ipykernel)",
   "language": "python",
   "name": "python3"
  },
  "language_info": {
   "codemirror_mode": {
    "name": "ipython",
    "version": 3
   },
   "file_extension": ".py",
   "mimetype": "text/x-python",
   "name": "python",
   "nbconvert_exporter": "python",
   "pygments_lexer": "ipython3",
   "version": "3.10.9"
  },
  "toc": {
   "base_numbering": 1,
   "nav_menu": {},
   "number_sections": true,
   "sideBar": true,
   "skip_h1_title": true,
   "title_cell": "Table of Contents",
   "title_sidebar": "Contents",
   "toc_cell": true,
   "toc_position": {
    "height": "calc(100% - 180px)",
    "left": "10px",
    "top": "150px",
    "width": "248.352px"
   },
   "toc_section_display": true,
   "toc_window_display": false
  }
 },
 "nbformat": 4,
 "nbformat_minor": 5
}
